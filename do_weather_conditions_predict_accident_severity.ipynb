{
  "cells": [
    {
      "cell_type": "markdown",
      "metadata": {
        "_cell_guid": "51571dc9-9a5c-4524-82e2-9d5c538387f2",
        "_uuid": "e93a1fc06f76d91eaf14fed8b2f23834514fa982",
        "id": "bB6fPhJ4jIwQ"
      },
      "source": [
        "**This machine learning pipeine will be exploring whether weather, light, and road conditions – that increase the amount of information available about the situation – can increase the accuracy of predicting the severity of an accident.  **\n",
        "\n",
        "\n",
        "https://www.kaggle.com/datasets/akshay4/road-accidents-incidence"
      ]
    },
    {
      "cell_type": "code",
      "execution_count": null,
      "metadata": {
        "_cell_guid": "a97ee808-ca8a-4b2a-84b7-c419baa68daa",
        "_uuid": "d8d686182288a82e05068668a647e374f2284c80",
        "collapsed": true,
        "id": "EwJa6XfMjIwX"
      },
      "outputs": [],
      "source": [
        "# Libraries\n",
        "import pandas as pd\n",
        "import numpy as np\n",
        "from IPython.core.interactiveshell import InteractiveShell\n",
        "InteractiveShell.ast_node_interactivity = \"all\"\n",
        "#from sklearn import preprocessing\n",
        "import seaborn as sns\n",
        "#from sklearn import ensemble, tree, linear_model\n",
        "from sklearn.model_selection import train_test_split, cross_val_score\n",
        "from sklearn.metrics import r2_score, mean_squared_error\n",
        "import matplotlib.pyplot as plt\n",
        "\n",
        "pd.set_option('display.max_columns', 70) # Since we're dealing with moderately sized dataframe,\n",
        "pd.set_option('display.max_rows', 13)# max 13 columns and rows will be shown"
      ]
    },
    {
      "cell_type": "code",
      "execution_count": null,
      "metadata": {
        "_cell_guid": "6bb983e1-b7a1-48a0-ba81-184065f5a11c",
        "_uuid": "e27c76db67b4f3c0f839a1f0a6ce787c97980b3f",
        "collapsed": true,
        "id": "-U3m_lh9jIwY",
        "outputId": "fc639c50-421d-4fd1-ab3a-442ab5b17dda"
      },
      "outputs": [
        {
          "data": {
            "text/html": [
              "<div>\n",
              "<style>\n",
              "    .dataframe thead tr:only-child th {\n",
              "        text-align: right;\n",
              "    }\n",
              "\n",
              "    .dataframe thead th {\n",
              "        text-align: left;\n",
              "    }\n",
              "\n",
              "    .dataframe tbody tr th {\n",
              "        vertical-align: top;\n",
              "    }\n",
              "</style>\n",
              "<table border=\"1\" class=\"dataframe\">\n",
              "  <thead>\n",
              "    <tr style=\"text-align: right;\">\n",
              "      <th></th>\n",
              "      <th>accident_index</th>\n",
              "      <th>vehicle_reference</th>\n",
              "      <th>vehicle_type</th>\n",
              "      <th>towing_and_articulation</th>\n",
              "      <th>vehicle_manoeuvre</th>\n",
              "      <th>vehicle_location-restricted_lane</th>\n",
              "      <th>junction_location</th>\n",
              "      <th>skidding_and_overturning</th>\n",
              "      <th>hit_object_in_carriageway</th>\n",
              "      <th>vehicle_leaving_carriageway</th>\n",
              "      <th>hit_object_off_carriageway</th>\n",
              "      <th>1st_point_of_impact</th>\n",
              "      <th>was_vehicle_left_hand_drive?</th>\n",
              "      <th>journey_purpose_of_driver</th>\n",
              "      <th>sex_of_driver</th>\n",
              "      <th>age_of_driver</th>\n",
              "      <th>age_band_of_driver</th>\n",
              "      <th>engine_capacity_(cc)</th>\n",
              "      <th>propulsion_code</th>\n",
              "      <th>age_of_vehicle</th>\n",
              "      <th>driver_imd_decile</th>\n",
              "      <th>driver_home_area_type</th>\n",
              "      <th>vehicle_imd_decile</th>\n",
              "      <th>NUmber_of_Casualities_unique_to_accident_index</th>\n",
              "      <th>No_of_Vehicles_involved_unique_to_accident_index</th>\n",
              "      <th>location_easting_osgr</th>\n",
              "      <th>location_northing_osgr</th>\n",
              "      <th>longitude</th>\n",
              "      <th>latitude</th>\n",
              "      <th>police_force</th>\n",
              "      <th>accident_severity</th>\n",
              "      <th>number_of_vehicles</th>\n",
              "      <th>number_of_casualties</th>\n",
              "      <th>date</th>\n",
              "      <th>day_of_week</th>\n",
              "      <th>time</th>\n",
              "      <th>local_authority_(district)</th>\n",
              "      <th>local_authority_(highway)</th>\n",
              "      <th>1st_road_class</th>\n",
              "      <th>1st_road_number</th>\n",
              "      <th>road_type</th>\n",
              "      <th>speed_limit</th>\n",
              "      <th>junction_detail</th>\n",
              "      <th>junction_control</th>\n",
              "      <th>2nd_road_class</th>\n",
              "      <th>2nd_road_number</th>\n",
              "      <th>pedestrian_crossing-human_control</th>\n",
              "      <th>pedestrian_crossing-physical_facilities</th>\n",
              "      <th>light_conditions</th>\n",
              "      <th>weather_conditions</th>\n",
              "      <th>road_surface_conditions</th>\n",
              "      <th>special_conditions_at_site</th>\n",
              "      <th>carriageway_hazards</th>\n",
              "      <th>urban_or_rural_area</th>\n",
              "      <th>did_police_officer_attend_scene_of_accident</th>\n",
              "      <th>lsoa_of_accident_location</th>\n",
              "      <th>casualty_reference</th>\n",
              "      <th>casualty_class</th>\n",
              "      <th>sex_of_casualty</th>\n",
              "      <th>age_of_casualty</th>\n",
              "      <th>age_band_of_casualty</th>\n",
              "      <th>casualty_severity</th>\n",
              "      <th>pedestrian_location</th>\n",
              "      <th>pedestrian_movement</th>\n",
              "      <th>car_passenger</th>\n",
              "      <th>bus_or_coach_passenger</th>\n",
              "      <th>pedestrian_road_maintenance_worker</th>\n",
              "      <th>casualty_type</th>\n",
              "      <th>casualty_home_area_type</th>\n",
              "      <th>casualty_imd_decile</th>\n",
              "    </tr>\n",
              "  </thead>\n",
              "  <tbody>\n",
              "    <tr>\n",
              "      <th>2</th>\n",
              "      <td>201506E098766</td>\n",
              "      <td>2</td>\n",
              "      <td>9</td>\n",
              "      <td>0</td>\n",
              "      <td>18</td>\n",
              "      <td>0</td>\n",
              "      <td>8</td>\n",
              "      <td>0</td>\n",
              "      <td>0</td>\n",
              "      <td>0</td>\n",
              "      <td>0</td>\n",
              "      <td>1</td>\n",
              "      <td>1</td>\n",
              "      <td>6</td>\n",
              "      <td>1</td>\n",
              "      <td>51</td>\n",
              "      <td>8</td>\n",
              "      <td>-1</td>\n",
              "      <td>-1</td>\n",
              "      <td>-1</td>\n",
              "      <td>-1</td>\n",
              "      <td>1</td>\n",
              "      <td>-1</td>\n",
              "      <td>1</td>\n",
              "      <td>2</td>\n",
              "      <td>383870.0</td>\n",
              "      <td>394420.0</td>\n",
              "      <td>-2.244322</td>\n",
              "      <td>53.446296</td>\n",
              "      <td>6</td>\n",
              "      <td>3</td>\n",
              "      <td>2</td>\n",
              "      <td>1</td>\n",
              "      <td>14/03/2015</td>\n",
              "      <td>7</td>\n",
              "      <td>1899-12-30 15:55:00</td>\n",
              "      <td>102</td>\n",
              "      <td>E08000003</td>\n",
              "      <td>3</td>\n",
              "      <td>5103</td>\n",
              "      <td>3</td>\n",
              "      <td>40</td>\n",
              "      <td>6</td>\n",
              "      <td>2</td>\n",
              "      <td>5</td>\n",
              "      <td>0</td>\n",
              "      <td>0</td>\n",
              "      <td>5</td>\n",
              "      <td>1</td>\n",
              "      <td>1</td>\n",
              "      <td>1</td>\n",
              "      <td>0</td>\n",
              "      <td>0</td>\n",
              "      <td>1</td>\n",
              "      <td>1</td>\n",
              "      <td>E01005178</td>\n",
              "      <td>1.0</td>\n",
              "      <td>1.0</td>\n",
              "      <td>1.0</td>\n",
              "      <td>51.0</td>\n",
              "      <td>8.0</td>\n",
              "      <td>3.0</td>\n",
              "      <td>0.0</td>\n",
              "      <td>0.0</td>\n",
              "      <td>0.0</td>\n",
              "      <td>0.0</td>\n",
              "      <td>0.0</td>\n",
              "      <td>9.0</td>\n",
              "      <td>1.0</td>\n",
              "      <td>3.0</td>\n",
              "    </tr>\n",
              "    <tr>\n",
              "      <th>3</th>\n",
              "      <td>201506E098777</td>\n",
              "      <td>1</td>\n",
              "      <td>20</td>\n",
              "      <td>0</td>\n",
              "      <td>4</td>\n",
              "      <td>0</td>\n",
              "      <td>0</td>\n",
              "      <td>0</td>\n",
              "      <td>0</td>\n",
              "      <td>0</td>\n",
              "      <td>0</td>\n",
              "      <td>1</td>\n",
              "      <td>1</td>\n",
              "      <td>1</td>\n",
              "      <td>1</td>\n",
              "      <td>50</td>\n",
              "      <td>8</td>\n",
              "      <td>4462</td>\n",
              "      <td>2</td>\n",
              "      <td>1</td>\n",
              "      <td>-1</td>\n",
              "      <td>1</td>\n",
              "      <td>-1</td>\n",
              "      <td>1</td>\n",
              "      <td>1</td>\n",
              "      <td>386710.0</td>\n",
              "      <td>395700.0</td>\n",
              "      <td>-2.201617</td>\n",
              "      <td>53.457881</td>\n",
              "      <td>6</td>\n",
              "      <td>3</td>\n",
              "      <td>1</td>\n",
              "      <td>1</td>\n",
              "      <td>42311</td>\n",
              "      <td>4</td>\n",
              "      <td>1899-12-30 10:15:00</td>\n",
              "      <td>102</td>\n",
              "      <td>E08000003</td>\n",
              "      <td>3</td>\n",
              "      <td>6</td>\n",
              "      <td>6</td>\n",
              "      <td>30</td>\n",
              "      <td>0</td>\n",
              "      <td>-1</td>\n",
              "      <td>-1</td>\n",
              "      <td>0</td>\n",
              "      <td>0</td>\n",
              "      <td>4</td>\n",
              "      <td>1</td>\n",
              "      <td>1</td>\n",
              "      <td>1</td>\n",
              "      <td>0</td>\n",
              "      <td>0</td>\n",
              "      <td>1</td>\n",
              "      <td>1</td>\n",
              "      <td>E01005232</td>\n",
              "      <td>1.0</td>\n",
              "      <td>3.0</td>\n",
              "      <td>2.0</td>\n",
              "      <td>34.0</td>\n",
              "      <td>6.0</td>\n",
              "      <td>3.0</td>\n",
              "      <td>1.0</td>\n",
              "      <td>1.0</td>\n",
              "      <td>0.0</td>\n",
              "      <td>0.0</td>\n",
              "      <td>0.0</td>\n",
              "      <td>0.0</td>\n",
              "      <td>1.0</td>\n",
              "      <td>1.0</td>\n",
              "    </tr>\n",
              "    <tr>\n",
              "      <th>5</th>\n",
              "      <td>201506E098780</td>\n",
              "      <td>2</td>\n",
              "      <td>1</td>\n",
              "      <td>0</td>\n",
              "      <td>9</td>\n",
              "      <td>0</td>\n",
              "      <td>5</td>\n",
              "      <td>0</td>\n",
              "      <td>0</td>\n",
              "      <td>0</td>\n",
              "      <td>0</td>\n",
              "      <td>1</td>\n",
              "      <td>1</td>\n",
              "      <td>6</td>\n",
              "      <td>1</td>\n",
              "      <td>46</td>\n",
              "      <td>8</td>\n",
              "      <td>-1</td>\n",
              "      <td>-1</td>\n",
              "      <td>-1</td>\n",
              "      <td>-1</td>\n",
              "      <td>1</td>\n",
              "      <td>-1</td>\n",
              "      <td>1</td>\n",
              "      <td>2</td>\n",
              "      <td>384280.0</td>\n",
              "      <td>395200.0</td>\n",
              "      <td>-2.238188</td>\n",
              "      <td>53.453319</td>\n",
              "      <td>6</td>\n",
              "      <td>3</td>\n",
              "      <td>2</td>\n",
              "      <td>1</td>\n",
              "      <td>42158</td>\n",
              "      <td>6</td>\n",
              "      <td>1899-12-30 08:03:00</td>\n",
              "      <td>102</td>\n",
              "      <td>E08000003</td>\n",
              "      <td>5</td>\n",
              "      <td>0</td>\n",
              "      <td>6</td>\n",
              "      <td>30</td>\n",
              "      <td>3</td>\n",
              "      <td>4</td>\n",
              "      <td>6</td>\n",
              "      <td>0</td>\n",
              "      <td>0</td>\n",
              "      <td>0</td>\n",
              "      <td>1</td>\n",
              "      <td>1</td>\n",
              "      <td>1</td>\n",
              "      <td>0</td>\n",
              "      <td>0</td>\n",
              "      <td>1</td>\n",
              "      <td>2</td>\n",
              "      <td>E01005242</td>\n",
              "      <td>1.0</td>\n",
              "      <td>1.0</td>\n",
              "      <td>1.0</td>\n",
              "      <td>46.0</td>\n",
              "      <td>8.0</td>\n",
              "      <td>3.0</td>\n",
              "      <td>0.0</td>\n",
              "      <td>0.0</td>\n",
              "      <td>0.0</td>\n",
              "      <td>0.0</td>\n",
              "      <td>0.0</td>\n",
              "      <td>1.0</td>\n",
              "      <td>1.0</td>\n",
              "      <td>2.0</td>\n",
              "    </tr>\n",
              "    <tr>\n",
              "      <th>6</th>\n",
              "      <td>201506E098792</td>\n",
              "      <td>1</td>\n",
              "      <td>3</td>\n",
              "      <td>0</td>\n",
              "      <td>4</td>\n",
              "      <td>0</td>\n",
              "      <td>2</td>\n",
              "      <td>0</td>\n",
              "      <td>0</td>\n",
              "      <td>0</td>\n",
              "      <td>0</td>\n",
              "      <td>1</td>\n",
              "      <td>1</td>\n",
              "      <td>1</td>\n",
              "      <td>2</td>\n",
              "      <td>27</td>\n",
              "      <td>6</td>\n",
              "      <td>50</td>\n",
              "      <td>1</td>\n",
              "      <td>8</td>\n",
              "      <td>-1</td>\n",
              "      <td>1</td>\n",
              "      <td>-1</td>\n",
              "      <td>1</td>\n",
              "      <td>2</td>\n",
              "      <td>383870.0</td>\n",
              "      <td>393730.0</td>\n",
              "      <td>-2.244286</td>\n",
              "      <td>53.440094</td>\n",
              "      <td>6</td>\n",
              "      <td>3</td>\n",
              "      <td>2</td>\n",
              "      <td>1</td>\n",
              "      <td>19/03/2015</td>\n",
              "      <td>5</td>\n",
              "      <td>1899-12-30 20:35:00</td>\n",
              "      <td>102</td>\n",
              "      <td>E08000003</td>\n",
              "      <td>3</td>\n",
              "      <td>5103</td>\n",
              "      <td>3</td>\n",
              "      <td>40</td>\n",
              "      <td>6</td>\n",
              "      <td>2</td>\n",
              "      <td>5</td>\n",
              "      <td>0</td>\n",
              "      <td>0</td>\n",
              "      <td>5</td>\n",
              "      <td>7</td>\n",
              "      <td>1</td>\n",
              "      <td>1</td>\n",
              "      <td>0</td>\n",
              "      <td>0</td>\n",
              "      <td>1</td>\n",
              "      <td>1</td>\n",
              "      <td>E01005279</td>\n",
              "      <td>1.0</td>\n",
              "      <td>1.0</td>\n",
              "      <td>2.0</td>\n",
              "      <td>27.0</td>\n",
              "      <td>6.0</td>\n",
              "      <td>3.0</td>\n",
              "      <td>0.0</td>\n",
              "      <td>0.0</td>\n",
              "      <td>0.0</td>\n",
              "      <td>0.0</td>\n",
              "      <td>0.0</td>\n",
              "      <td>3.0</td>\n",
              "      <td>1.0</td>\n",
              "      <td>3.0</td>\n",
              "    </tr>\n",
              "    <tr>\n",
              "      <th>8</th>\n",
              "      <td>201506E098804</td>\n",
              "      <td>1</td>\n",
              "      <td>9</td>\n",
              "      <td>0</td>\n",
              "      <td>14</td>\n",
              "      <td>0</td>\n",
              "      <td>1</td>\n",
              "      <td>0</td>\n",
              "      <td>0</td>\n",
              "      <td>0</td>\n",
              "      <td>0</td>\n",
              "      <td>4</td>\n",
              "      <td>1</td>\n",
              "      <td>6</td>\n",
              "      <td>1</td>\n",
              "      <td>24</td>\n",
              "      <td>5</td>\n",
              "      <td>1398</td>\n",
              "      <td>1</td>\n",
              "      <td>1</td>\n",
              "      <td>-1</td>\n",
              "      <td>1</td>\n",
              "      <td>-1</td>\n",
              "      <td>1</td>\n",
              "      <td>1</td>\n",
              "      <td>385110.0</td>\n",
              "      <td>395540.0</td>\n",
              "      <td>-2.225706</td>\n",
              "      <td>53.456400</td>\n",
              "      <td>6</td>\n",
              "      <td>3</td>\n",
              "      <td>1</td>\n",
              "      <td>1</td>\n",
              "      <td>19/03/2015</td>\n",
              "      <td>5</td>\n",
              "      <td>1899-12-30 17:15:00</td>\n",
              "      <td>102</td>\n",
              "      <td>E08000003</td>\n",
              "      <td>4</td>\n",
              "      <td>5117</td>\n",
              "      <td>3</td>\n",
              "      <td>30</td>\n",
              "      <td>3</td>\n",
              "      <td>2</td>\n",
              "      <td>6</td>\n",
              "      <td>0</td>\n",
              "      <td>0</td>\n",
              "      <td>5</td>\n",
              "      <td>1</td>\n",
              "      <td>1</td>\n",
              "      <td>1</td>\n",
              "      <td>0</td>\n",
              "      <td>0</td>\n",
              "      <td>1</td>\n",
              "      <td>1</td>\n",
              "      <td>E01005284</td>\n",
              "      <td>1.0</td>\n",
              "      <td>3.0</td>\n",
              "      <td>1.0</td>\n",
              "      <td>12.0</td>\n",
              "      <td>3.0</td>\n",
              "      <td>3.0</td>\n",
              "      <td>1.0</td>\n",
              "      <td>2.0</td>\n",
              "      <td>0.0</td>\n",
              "      <td>0.0</td>\n",
              "      <td>0.0</td>\n",
              "      <td>0.0</td>\n",
              "      <td>1.0</td>\n",
              "      <td>2.0</td>\n",
              "    </tr>\n",
              "  </tbody>\n",
              "</table>\n",
              "</div>"
            ],
            "text/plain": [
              "  accident_index  vehicle_reference  vehicle_type  towing_and_articulation  \\\n",
              "2  201506E098766                  2             9                        0   \n",
              "3  201506E098777                  1            20                        0   \n",
              "5  201506E098780                  2             1                        0   \n",
              "6  201506E098792                  1             3                        0   \n",
              "8  201506E098804                  1             9                        0   \n",
              "\n",
              "   vehicle_manoeuvre  vehicle_location-restricted_lane  junction_location  \\\n",
              "2                 18                                 0                  8   \n",
              "3                  4                                 0                  0   \n",
              "5                  9                                 0                  5   \n",
              "6                  4                                 0                  2   \n",
              "8                 14                                 0                  1   \n",
              "\n",
              "   skidding_and_overturning  hit_object_in_carriageway  \\\n",
              "2                         0                          0   \n",
              "3                         0                          0   \n",
              "5                         0                          0   \n",
              "6                         0                          0   \n",
              "8                         0                          0   \n",
              "\n",
              "   vehicle_leaving_carriageway  hit_object_off_carriageway  \\\n",
              "2                            0                           0   \n",
              "3                            0                           0   \n",
              "5                            0                           0   \n",
              "6                            0                           0   \n",
              "8                            0                           0   \n",
              "\n",
              "   1st_point_of_impact  was_vehicle_left_hand_drive?  \\\n",
              "2                    1                             1   \n",
              "3                    1                             1   \n",
              "5                    1                             1   \n",
              "6                    1                             1   \n",
              "8                    4                             1   \n",
              "\n",
              "   journey_purpose_of_driver  sex_of_driver  age_of_driver  \\\n",
              "2                          6              1             51   \n",
              "3                          1              1             50   \n",
              "5                          6              1             46   \n",
              "6                          1              2             27   \n",
              "8                          6              1             24   \n",
              "\n",
              "   age_band_of_driver  engine_capacity_(cc)  propulsion_code  age_of_vehicle  \\\n",
              "2                   8                    -1               -1              -1   \n",
              "3                   8                  4462                2               1   \n",
              "5                   8                    -1               -1              -1   \n",
              "6                   6                    50                1               8   \n",
              "8                   5                  1398                1               1   \n",
              "\n",
              "   driver_imd_decile  driver_home_area_type  vehicle_imd_decile  \\\n",
              "2                 -1                      1                  -1   \n",
              "3                 -1                      1                  -1   \n",
              "5                 -1                      1                  -1   \n",
              "6                 -1                      1                  -1   \n",
              "8                 -1                      1                  -1   \n",
              "\n",
              "   NUmber_of_Casualities_unique_to_accident_index  \\\n",
              "2                                               1   \n",
              "3                                               1   \n",
              "5                                               1   \n",
              "6                                               1   \n",
              "8                                               1   \n",
              "\n",
              "   No_of_Vehicles_involved_unique_to_accident_index  location_easting_osgr  \\\n",
              "2                                                 2               383870.0   \n",
              "3                                                 1               386710.0   \n",
              "5                                                 2               384280.0   \n",
              "6                                                 2               383870.0   \n",
              "8                                                 1               385110.0   \n",
              "\n",
              "   location_northing_osgr  longitude   latitude  police_force  \\\n",
              "2                394420.0  -2.244322  53.446296             6   \n",
              "3                395700.0  -2.201617  53.457881             6   \n",
              "5                395200.0  -2.238188  53.453319             6   \n",
              "6                393730.0  -2.244286  53.440094             6   \n",
              "8                395540.0  -2.225706  53.456400             6   \n",
              "\n",
              "   accident_severity  number_of_vehicles  number_of_casualties        date  \\\n",
              "2                  3                   2                     1  14/03/2015   \n",
              "3                  3                   1                     1       42311   \n",
              "5                  3                   2                     1       42158   \n",
              "6                  3                   2                     1  19/03/2015   \n",
              "8                  3                   1                     1  19/03/2015   \n",
              "\n",
              "   day_of_week                 time  local_authority_(district)  \\\n",
              "2            7  1899-12-30 15:55:00                         102   \n",
              "3            4  1899-12-30 10:15:00                         102   \n",
              "5            6  1899-12-30 08:03:00                         102   \n",
              "6            5  1899-12-30 20:35:00                         102   \n",
              "8            5  1899-12-30 17:15:00                         102   \n",
              "\n",
              "  local_authority_(highway)  1st_road_class  1st_road_number  road_type  \\\n",
              "2                 E08000003               3             5103          3   \n",
              "3                 E08000003               3                6          6   \n",
              "5                 E08000003               5                0          6   \n",
              "6                 E08000003               3             5103          3   \n",
              "8                 E08000003               4             5117          3   \n",
              "\n",
              "   speed_limit  junction_detail  junction_control  2nd_road_class  \\\n",
              "2           40                6                 2               5   \n",
              "3           30                0                -1              -1   \n",
              "5           30                3                 4               6   \n",
              "6           40                6                 2               5   \n",
              "8           30                3                 2               6   \n",
              "\n",
              "   2nd_road_number  pedestrian_crossing-human_control  \\\n",
              "2                0                                  0   \n",
              "3                0                                  0   \n",
              "5                0                                  0   \n",
              "6                0                                  0   \n",
              "8                0                                  0   \n",
              "\n",
              "   pedestrian_crossing-physical_facilities  light_conditions  \\\n",
              "2                                        5                 1   \n",
              "3                                        4                 1   \n",
              "5                                        0                 1   \n",
              "6                                        5                 7   \n",
              "8                                        5                 1   \n",
              "\n",
              "   weather_conditions  road_surface_conditions  special_conditions_at_site  \\\n",
              "2                   1                        1                           0   \n",
              "3                   1                        1                           0   \n",
              "5                   1                        1                           0   \n",
              "6                   1                        1                           0   \n",
              "8                   1                        1                           0   \n",
              "\n",
              "   carriageway_hazards  urban_or_rural_area  \\\n",
              "2                    0                    1   \n",
              "3                    0                    1   \n",
              "5                    0                    1   \n",
              "6                    0                    1   \n",
              "8                    0                    1   \n",
              "\n",
              "   did_police_officer_attend_scene_of_accident lsoa_of_accident_location  \\\n",
              "2                                            1                 E01005178   \n",
              "3                                            1                 E01005232   \n",
              "5                                            2                 E01005242   \n",
              "6                                            1                 E01005279   \n",
              "8                                            1                 E01005284   \n",
              "\n",
              "   casualty_reference  casualty_class  sex_of_casualty  age_of_casualty  \\\n",
              "2                 1.0             1.0              1.0             51.0   \n",
              "3                 1.0             3.0              2.0             34.0   \n",
              "5                 1.0             1.0              1.0             46.0   \n",
              "6                 1.0             1.0              2.0             27.0   \n",
              "8                 1.0             3.0              1.0             12.0   \n",
              "\n",
              "   age_band_of_casualty  casualty_severity  pedestrian_location  \\\n",
              "2                   8.0                3.0                  0.0   \n",
              "3                   6.0                3.0                  1.0   \n",
              "5                   8.0                3.0                  0.0   \n",
              "6                   6.0                3.0                  0.0   \n",
              "8                   3.0                3.0                  1.0   \n",
              "\n",
              "   pedestrian_movement  car_passenger  bus_or_coach_passenger  \\\n",
              "2                  0.0            0.0                     0.0   \n",
              "3                  1.0            0.0                     0.0   \n",
              "5                  0.0            0.0                     0.0   \n",
              "6                  0.0            0.0                     0.0   \n",
              "8                  2.0            0.0                     0.0   \n",
              "\n",
              "   pedestrian_road_maintenance_worker  casualty_type  casualty_home_area_type  \\\n",
              "2                                 0.0            9.0                      1.0   \n",
              "3                                 0.0            0.0                      1.0   \n",
              "5                                 0.0            1.0                      1.0   \n",
              "6                                 0.0            3.0                      1.0   \n",
              "8                                 0.0            0.0                      1.0   \n",
              "\n",
              "   casualty_imd_decile  \n",
              "2                  3.0  \n",
              "3                  1.0  \n",
              "5                  2.0  \n",
              "6                  3.0  \n",
              "8                  2.0  "
            ]
          },
          "execution_count": 2,
          "metadata": {},
          "output_type": "execute_result"
        },
        {
          "data": {
            "text/plain": [
              "0"
            ]
          },
          "execution_count": 2,
          "metadata": {},
          "output_type": "execute_result"
        },
        {
          "name": "stderr",
          "output_type": "stream",
          "text": [
            "/opt/conda/lib/python3.6/site-packages/ipykernel_launcher.py:13: SettingWithCopyWarning: \n",
            "A value is trying to be set on a copy of a slice from a DataFrame\n",
            "\n",
            "See the caveats in the documentation: http://pandas.pydata.org/pandas-docs/stable/indexing.html#indexing-view-versus-copy\n",
            "  del sys.path[0]\n"
          ]
        },
        {
          "data": {
            "text/plain": [
              "(68210, 11)"
            ]
          },
          "execution_count": 2,
          "metadata": {},
          "output_type": "execute_result"
        },
        {
          "name": "stderr",
          "output_type": "stream",
          "text": [
            "/opt/conda/lib/python3.6/site-packages/ipykernel_launcher.py:17: SettingWithCopyWarning: \n",
            "A value is trying to be set on a copy of a slice from a DataFrame\n",
            "\n",
            "See the caveats in the documentation: http://pandas.pydata.org/pandas-docs/stable/indexing.html#indexing-view-versus-copy\n"
          ]
        },
        {
          "data": {
            "text/plain": [
              "(68121, 14)"
            ]
          },
          "execution_count": 2,
          "metadata": {},
          "output_type": "execute_result"
        }
      ],
      "source": [
        "df=pd.read_csv(\"../input/Kaagle_Upload.csv\", sep=\",\", decimal=\",\", engine='python') # Read the data from a csv\n",
        "df=df.dropna() # The dataset is huge, therefore, dropping any rows with missing values is fine\n",
        "df.head()\n",
        "df.isnull().sum().sum()\n",
        "\n",
        "# First I select variables based on prefrence, then for df2 I add weather related conditions of:\n",
        "#'road_surface_conditions','light_conditions','weather_conditions'\n",
        "#Feel free to mix these variables up\n",
        "df2 = df[['special_conditions_at_site','pedestrian_movement','road_surface_conditions','light_conditions','weather_conditions','age_of_vehicle','sex_of_driver','age_of_driver','junction_location', 'junction_detail','junction_control','did_police_officer_attend_scene_of_accident','accident_severity','day_of_week']]\n",
        "df1 = df[['special_conditions_at_site','pedestrian_movement','age_of_vehicle','sex_of_driver','age_of_driver','junction_location','junction_detail','junction_control','did_police_officer_attend_scene_of_accident','day_of_week','accident_severity']]\n",
        "\n",
        "\n",
        "df1.replace(-1, np.nan, inplace=True) # -1 should be imputed to NaN to be recognized as missing in the next row\n",
        "df1=df1.dropna() # I drop all the rows with missing data once again\n",
        "df1.shape\n",
        "\n",
        "df2.replace(-1, np.nan, inplace=True) # Same as previously\n",
        "df2=df2.dropna()\n",
        "df2.shape"
      ]
    },
    {
      "cell_type": "code",
      "execution_count": null,
      "metadata": {
        "_cell_guid": "108ce87d-fc67-414b-aa06-020885f7ce25",
        "_uuid": "135e2c245f10d32eb49095fe0ee44d88217d7285",
        "collapsed": true,
        "id": "Jp0A3SxbjIwY",
        "outputId": "db2edd61-f95b-4cb4-99ff-8741e7a2bc56"
      },
      "outputs": [
        {
          "data": {
            "text/plain": [
              "(68210, 10)"
            ]
          },
          "execution_count": 3,
          "metadata": {},
          "output_type": "execute_result"
        },
        {
          "data": {
            "text/plain": [
              "(68121, 13)"
            ]
          },
          "execution_count": 3,
          "metadata": {},
          "output_type": "execute_result"
        }
      ],
      "source": [
        "# Here I took a subset of features from the previous cell. This is so I could narrow it more down /\n",
        "# This can be considered redundant, but was mostly part of the workflow when looking at different variables\n",
        "df1 = df1[['special_conditions_at_site','pedestrian_movement','age_of_vehicle','sex_of_driver','age_of_driver','junction_location','junction_detail',\n",
        "           'junction_control','day_of_week',\n",
        "           'accident_severity']]\n",
        "\n",
        "df2 = df2[['special_conditions_at_site','pedestrian_movement','road_surface_conditions','light_conditions','weather_conditions','age_of_vehicle','sex_of_driver','age_of_driver',\n",
        "          'junction_location', 'junction_detail','junction_control',\n",
        "          'accident_severity','day_of_week']]\n",
        "\n",
        "df1.shape\n",
        "df2.shape"
      ]
    },
    {
      "cell_type": "code",
      "execution_count": null,
      "metadata": {
        "_cell_guid": "4fcd5017-0ec9-46ec-a043-4e6d14c5f01d",
        "_uuid": "047ffb10409078a6a1f065186e5a6804318b25f8",
        "collapsed": true,
        "id": "h2PS8DhujIwZ",
        "outputId": "bd8cd962-79cb-47df-b16c-7c540ff27966"
      },
      "outputs": [
        {
          "data": {
            "text/plain": [
              "<matplotlib.axes._subplots.AxesSubplot at 0x7fc514b4e550>"
            ]
          },
          "execution_count": 4,
          "metadata": {},
          "output_type": "execute_result"
        },
        {
          "data": {
            "image/png": "[encoded data removed]",
            "text/plain": [
              "<matplotlib.figure.Figure at 0x7fc577bec9b0>"
            ]
          },
          "metadata": {},
          "output_type": "display_data"
        }
      ],
      "source": [
        "\n",
        "import matplotlib.pyplot as plt\n",
        "corrmat = df2.corr()\n",
        "f, ax = plt.subplots(figsize=(12, 9))\n",
        "sns.heatmap(corrmat, vmax=.8, square=True)\n",
        "\n",
        "#ax = sns.pairplot(df, size)\n",
        "plt.show()"
      ]
    },
    {
      "cell_type": "markdown",
      "metadata": {
        "_cell_guid": "ed1a5488-1859-48dc-a5d2-4882f565bf7f",
        "_uuid": "b6d320bcb05dd3c2f3ac253515f6ff4324f86a3a",
        "id": "M65hECvejIwZ"
      },
      "source": [
        "**The next step was to plot a Pearson correlation matrix to identify the amount of linear relationship be-tween variables in order to gain insight into dataand to determine whether linear based algorithms aresuitable. The matrix is color-coded - a value of one is represented by beige and shows a completely positive linear correlation. Dark purple represents a zero that suggests no linear correlation. As seen by the graph, there no linear relationships present, besides between the added features of weather condition, road surface,and light condition.This makes sense, as weather-, road-, and light conditions are dependent on each other. When it is raining, one can presume that the road condition atthe same time is also wet. Absence of other linear relationships can be explained by the fact that almost everything is a categorical variable. Even the weather related conditions barely achieve 0.4 on the Pearson correlation as they are nominal features as well.\n",
        "Hence there is no justification and indication touse predictive models based on linearity**"
      ]
    },
    {
      "cell_type": "code",
      "execution_count": null,
      "metadata": {
        "_cell_guid": "5cf751e8-8287-4227-90c7-abd9e6bcb31b",
        "_uuid": "a076b93f817c93a61379bdcbfb683dc435664c0f",
        "collapsed": true,
        "id": "IDKQIf0EjIwZ",
        "outputId": "37219033-64c4-4d9c-e471-585b4b960987"
      },
      "outputs": [
        {
          "data": {
            "image/png": "[encoded data removed]",
            "text/plain": [
              "<matplotlib.figure.Figure at 0x7fc514c79ef0>"
            ]
          },
          "metadata": {},
          "output_type": "display_data"
        }
      ],
      "source": [
        "\n",
        "#cols2 = ['junction_detail','light_conditions','weather_conditions','casualty_type','day_of_week','junction_control','road_surface_conditions','casualty_severity']\n",
        "\n",
        "k = 6 #number of variables for heatmap\n",
        "cols = corrmat.nlargest(k, 'accident_severity')['accident_severity'].index\n",
        "cm = np.corrcoef(df2[cols].values.T)\n",
        "sns.set(font_scale=1.25)\n",
        "hm = sns.heatmap(cm, cbar=True, annot=True, square=True, fmt='.2f', annot_kws={'size': 10}, yticklabels=cols.values, xticklabels=cols.values)\n",
        "plt.show()"
      ]
    },
    {
      "cell_type": "code",
      "execution_count": null,
      "metadata": {
        "_cell_guid": "f421d1f1-e3bc-44a1-b84b-c6af3e8d3c0d",
        "_uuid": "bf8d4bd3de40ebe865234488f2ae782f083cebd6",
        "collapsed": true,
        "id": "r-Pmjt-jjIwZ",
        "outputId": "35367640-8c68-4da9-9d62-037b6c22c4c9"
      },
      "outputs": [
        {
          "data": {
            "text/html": [
              "<div>\n",
              "<style>\n",
              "    .dataframe thead tr:only-child th {\n",
              "        text-align: right;\n",
              "    }\n",
              "\n",
              "    .dataframe thead th {\n",
              "        text-align: left;\n",
              "    }\n",
              "\n",
              "    .dataframe tbody tr th {\n",
              "        vertical-align: top;\n",
              "    }\n",
              "</style>\n",
              "<table border=\"1\" class=\"dataframe\">\n",
              "  <thead>\n",
              "    <tr style=\"text-align: right;\">\n",
              "      <th></th>\n",
              "      <th>special_conditions_at_site</th>\n",
              "      <th>pedestrian_movement</th>\n",
              "      <th>road_surface_conditions</th>\n",
              "      <th>light_conditions</th>\n",
              "      <th>weather_conditions</th>\n",
              "      <th>age_of_vehicle</th>\n",
              "      <th>sex_of_driver</th>\n",
              "      <th>age_of_driver</th>\n",
              "      <th>junction_location</th>\n",
              "      <th>junction_detail</th>\n",
              "      <th>junction_control</th>\n",
              "      <th>accident_severity</th>\n",
              "      <th>day_of_week</th>\n",
              "    </tr>\n",
              "  </thead>\n",
              "  <tbody>\n",
              "    <tr>\n",
              "      <th>6</th>\n",
              "      <td>0.0</td>\n",
              "      <td>0.0</td>\n",
              "      <td>1.0</td>\n",
              "      <td>7</td>\n",
              "      <td>1</td>\n",
              "      <td>8.0</td>\n",
              "      <td>2.0</td>\n",
              "      <td>27.0</td>\n",
              "      <td>2.0</td>\n",
              "      <td>6.0</td>\n",
              "      <td>2.0</td>\n",
              "      <td>3</td>\n",
              "      <td>5</td>\n",
              "    </tr>\n",
              "    <tr>\n",
              "      <th>8</th>\n",
              "      <td>0.0</td>\n",
              "      <td>2.0</td>\n",
              "      <td>1.0</td>\n",
              "      <td>1</td>\n",
              "      <td>1</td>\n",
              "      <td>1.0</td>\n",
              "      <td>1.0</td>\n",
              "      <td>24.0</td>\n",
              "      <td>1.0</td>\n",
              "      <td>3.0</td>\n",
              "      <td>2.0</td>\n",
              "      <td>3</td>\n",
              "      <td>5</td>\n",
              "    </tr>\n",
              "    <tr>\n",
              "      <th>14</th>\n",
              "      <td>0.0</td>\n",
              "      <td>0.0</td>\n",
              "      <td>1.0</td>\n",
              "      <td>1</td>\n",
              "      <td>1</td>\n",
              "      <td>1.0</td>\n",
              "      <td>2.0</td>\n",
              "      <td>23.0</td>\n",
              "      <td>8.0</td>\n",
              "      <td>6.0</td>\n",
              "      <td>4.0</td>\n",
              "      <td>3</td>\n",
              "      <td>4</td>\n",
              "    </tr>\n",
              "    <tr>\n",
              "      <th>25</th>\n",
              "      <td>0.0</td>\n",
              "      <td>0.0</td>\n",
              "      <td>1.0</td>\n",
              "      <td>1</td>\n",
              "      <td>1</td>\n",
              "      <td>8.0</td>\n",
              "      <td>2.0</td>\n",
              "      <td>48.0</td>\n",
              "      <td>8.0</td>\n",
              "      <td>3.0</td>\n",
              "      <td>4.0</td>\n",
              "      <td>3</td>\n",
              "      <td>7</td>\n",
              "    </tr>\n",
              "    <tr>\n",
              "      <th>26</th>\n",
              "      <td>0.0</td>\n",
              "      <td>3.0</td>\n",
              "      <td>1.0</td>\n",
              "      <td>1</td>\n",
              "      <td>1</td>\n",
              "      <td>7.0</td>\n",
              "      <td>2.0</td>\n",
              "      <td>47.0</td>\n",
              "      <td>8.0</td>\n",
              "      <td>3.0</td>\n",
              "      <td>4.0</td>\n",
              "      <td>3</td>\n",
              "      <td>5</td>\n",
              "    </tr>\n",
              "  </tbody>\n",
              "</table>\n",
              "</div>"
            ],
            "text/plain": [
              "    special_conditions_at_site  pedestrian_movement  road_surface_conditions  \\\n",
              "6                          0.0                  0.0                      1.0   \n",
              "8                          0.0                  2.0                      1.0   \n",
              "14                         0.0                  0.0                      1.0   \n",
              "25                         0.0                  0.0                      1.0   \n",
              "26                         0.0                  3.0                      1.0   \n",
              "\n",
              "    light_conditions  weather_conditions  age_of_vehicle  sex_of_driver  \\\n",
              "6                  7                   1             8.0            2.0   \n",
              "8                  1                   1             1.0            1.0   \n",
              "14                 1                   1             1.0            2.0   \n",
              "25                 1                   1             8.0            2.0   \n",
              "26                 1                   1             7.0            2.0   \n",
              "\n",
              "    age_of_driver  junction_location  junction_detail  junction_control  \\\n",
              "6            27.0                2.0              6.0               2.0   \n",
              "8            24.0                1.0              3.0               2.0   \n",
              "14           23.0                8.0              6.0               4.0   \n",
              "25           48.0                8.0              3.0               4.0   \n",
              "26           47.0                8.0              3.0               4.0   \n",
              "\n",
              "    accident_severity  day_of_week  \n",
              "6                   3            5  \n",
              "8                   3            5  \n",
              "14                  3            4  \n",
              "25                  3            7  \n",
              "26                  3            5  "
            ]
          },
          "execution_count": 6,
          "metadata": {},
          "output_type": "execute_result"
        }
      ],
      "source": [
        "df2.head()"
      ]
    },
    {
      "cell_type": "markdown",
      "metadata": {
        "_cell_guid": "6d9c0b4f-8cdd-4ee6-8a31-912add6998a1",
        "_uuid": "2f94a6314dd0deff94bb252d00253a63ebc5124f",
        "id": "KA_6Dt96jIwZ"
      },
      "source": [
        "**In the cell below, one can hot encode the categorical variables. However, I noticed that the performance alteration was miniscule.**"
      ]
    },
    {
      "cell_type": "code",
      "execution_count": null,
      "metadata": {
        "_cell_guid": "3f681585-d25c-46d5-a673-dd6011b521f0",
        "_uuid": "b9b2b8b1e17ba0af2484f5ae7cd91b2fc64c3863",
        "collapsed": true,
        "id": "uRXKUwvMjIwZ"
      },
      "outputs": [],
      "source": [
        "# cols_with = ['junction_location','junction_detail','light_conditions','weather_conditions','day_of_week','junction_control','road_surface_conditions']\n",
        "# cols_without = ['junction_location','junction_detail','day_of_week','junction_control']\n",
        "# import seaborn as sns\n",
        "# def one_hot(df, cols):\n",
        "#     for each in cols:\n",
        "#         dummies = pd.get_dummies(df[each], prefix=each, drop_first=False)\n",
        "#         df = pd.concat([df, dummies],axis=1)\n",
        "#     df = df.drop(cols, axis=1)\n",
        "#     return df  %%!\n",
        "# df2 = one_hot(df2,cols_with)\n",
        "# df1 = one_hot(df1,cols_without)\n"
      ]
    },
    {
      "cell_type": "markdown",
      "metadata": {
        "_cell_guid": "4fe34bd2-520d-4368-ac37-a435cf3546a3",
        "_uuid": "088b0beb725e850f98d1e1eaf76704b602da4fc4",
        "id": "-ZCKdtazjIwa"
      },
      "source": [
        "**The next step was to normalize the only features that were not categorical: age of the driver and age of the car. Normalization involves taking the logarithm of the given features. This is done to because high values for certain variables computationally skew results more in favour of that variable, than their actual contribution. In this case, age of the driver for example has values ranging from 18-88. When the majority of other categorical variables are binary or limited within 1-8 categories. **"
      ]
    },
    {
      "cell_type": "code",
      "execution_count": null,
      "metadata": {
        "_cell_guid": "a50323ad-0f09-4b60-9be9-a254e4678b3a",
        "_uuid": "019ffd7c2ca8de940123d91300e9d8bf35765474",
        "collapsed": true,
        "id": "Luh_YzIajIwa",
        "outputId": "1fa1c7ba-5633-46f7-8825-40b3e7ad7d68"
      },
      "outputs": [
        {
          "data": {
            "text/plain": [
              "<matplotlib.axes._subplots.AxesSubplot at 0x7fc514f41828>"
            ]
          },
          "execution_count": 8,
          "metadata": {},
          "output_type": "execute_result"
        },
        {
          "data": {
            "image/png": "[encoded data removed]",
            "text/plain": [
              "<matplotlib.figure.Figure at 0x7fc514cb2cf8>"
            ]
          },
          "metadata": {},
          "output_type": "display_data"
        },
        {
          "data": {
            "image/png": "[encoded data removed]",
            "text/plain": [
              "<matplotlib.figure.Figure at 0x7fc514cb2cc0>"
            ]
          },
          "metadata": {},
          "output_type": "display_data"
        }
      ],
      "source": [
        "from scipy.stats import norm\n",
        "from scipy import stats\n",
        "#histogram and normal probability plot\n",
        "sns.distplot(df1['age_of_driver'], fit=norm);\n",
        "fig = plt.figure()\n",
        "res = stats.probplot(df1['age_of_driver'], plot=plt)\n",
        "plt.show()\n"
      ]
    },
    {
      "cell_type": "markdown",
      "metadata": {
        "_cell_guid": "b93403b3-bdcc-4391-a233-dedfaf817d17",
        "_uuid": "ac5116d53232599257591c64b578e706c60846c8",
        "id": "zSD4TksKjIwa"
      },
      "source": [
        "**In this case, age of the driver and age of the vehicle were the only variables with a high numerical variance, and therefore logarithms were taken of both variables. Furthermore, taking the logarithm of both the age of the driver and age of the vehicle improved the fit by altering the scale, and making the variables more \"normally\" distributed.**"
      ]
    },
    {
      "cell_type": "code",
      "execution_count": null,
      "metadata": {
        "_cell_guid": "81a9d3f5-6e07-4f1d-900e-f86e0c5687d5",
        "_uuid": "14e232538f96a698116f4c1058842bea3eb850db",
        "collapsed": true,
        "id": "pWVOVExLjIwa"
      },
      "outputs": [],
      "source": [
        "df2['age_of_driver'] = np.log1p(df2['age_of_driver'])\n",
        "df2['age_of_vehicle'] = np.log1p(df2['age_of_vehicle'])# standardise the feature\n",
        "\n",
        "df1['age_of_driver'] = np.log1p(df1['age_of_driver'])\n",
        "df1['age_of_vehicle'] = np.log1p(df1['age_of_vehicle'])#\n"
      ]
    },
    {
      "cell_type": "code",
      "execution_count": null,
      "metadata": {
        "_cell_guid": "587c5841-1e7d-4c2f-8bb6-f38fb3c74cf5",
        "_uuid": "463d0ebb91244b8208808b69ce03a675b38a98bf",
        "collapsed": true,
        "id": "Glz1uJ92jIwa",
        "outputId": "40010540-bdbc-4a6c-b778-b3eba2e057d0"
      },
      "outputs": [
        {
          "data": {
            "text/plain": [
              "<matplotlib.axes._subplots.AxesSubplot at 0x7fc514c98cc0>"
            ]
          },
          "execution_count": 10,
          "metadata": {},
          "output_type": "execute_result"
        },
        {
          "data": {
            "image/png": "[encoded data removed]",
            "text/plain": [
              "<matplotlib.figure.Figure at 0x7fc514c10dd8>"
            ]
          },
          "metadata": {},
          "output_type": "display_data"
        },
        {
          "data": {
            "image/png": "[encoded data removed]",
            "text/plain": [
              "<matplotlib.figure.Figure at 0x7fc514c10be0>"
            ]
          },
          "metadata": {},
          "output_type": "display_data"
        }
      ],
      "source": [
        "sns.distplot(df1['age_of_driver'], fit=norm);\n",
        "fig = plt.figure()\n",
        "res = stats.probplot(df1['age_of_driver'], plot=plt)\n",
        "plt.show()"
      ]
    },
    {
      "cell_type": "markdown",
      "metadata": {
        "_cell_guid": "679c2c75-74b6-4952-a1f6-3008f077ff05",
        "_uuid": "b173232f4a8d6a76208303ddc2e050c323e8271f",
        "id": "Q55TsMMPjIwa"
      },
      "source": [
        "**After taking the log, one can notice that the values range from approximately 2.5 to 4.5. This increases the performance of machine learning algorithms, as the numerical values do not have disproportionate amounts of computing value compared to all the other categorical variables.\n",
        "**"
      ]
    },
    {
      "cell_type": "code",
      "execution_count": null,
      "metadata": {
        "_cell_guid": "69c62ed7-aceb-4a0e-8b94-3dff62c95b39",
        "_uuid": "081b6158f6aafb21a73cdf296cbff5bfbefc1737",
        "collapsed": true,
        "id": "rSM7pJWljIwb",
        "outputId": "5e1dfd55-fa4a-4b26-a944-b99a04943342"
      },
      "outputs": [
        {
          "data": {
            "text/html": [
              "<div>\n",
              "<style>\n",
              "    .dataframe thead tr:only-child th {\n",
              "        text-align: right;\n",
              "    }\n",
              "\n",
              "    .dataframe thead th {\n",
              "        text-align: left;\n",
              "    }\n",
              "\n",
              "    .dataframe tbody tr th {\n",
              "        vertical-align: top;\n",
              "    }\n",
              "</style>\n",
              "<table border=\"1\" class=\"dataframe\">\n",
              "  <thead>\n",
              "    <tr style=\"text-align: right;\">\n",
              "      <th></th>\n",
              "      <th>special_conditions_at_site</th>\n",
              "      <th>pedestrian_movement</th>\n",
              "      <th>road_surface_conditions</th>\n",
              "      <th>light_conditions</th>\n",
              "      <th>weather_conditions</th>\n",
              "      <th>age_of_vehicle</th>\n",
              "      <th>sex_of_driver</th>\n",
              "      <th>age_of_driver</th>\n",
              "      <th>junction_location</th>\n",
              "      <th>junction_detail</th>\n",
              "      <th>junction_control</th>\n",
              "      <th>accident_severity</th>\n",
              "      <th>day_of_week</th>\n",
              "    </tr>\n",
              "  </thead>\n",
              "  <tbody>\n",
              "    <tr>\n",
              "      <th>6</th>\n",
              "      <td>0.0</td>\n",
              "      <td>0.0</td>\n",
              "      <td>1.0</td>\n",
              "      <td>7</td>\n",
              "      <td>1</td>\n",
              "      <td>2.197225</td>\n",
              "      <td>2.0</td>\n",
              "      <td>3.332205</td>\n",
              "      <td>2.0</td>\n",
              "      <td>6.0</td>\n",
              "      <td>2.0</td>\n",
              "      <td>3</td>\n",
              "      <td>5</td>\n",
              "    </tr>\n",
              "    <tr>\n",
              "      <th>8</th>\n",
              "      <td>0.0</td>\n",
              "      <td>2.0</td>\n",
              "      <td>1.0</td>\n",
              "      <td>1</td>\n",
              "      <td>1</td>\n",
              "      <td>0.693147</td>\n",
              "      <td>1.0</td>\n",
              "      <td>3.218876</td>\n",
              "      <td>1.0</td>\n",
              "      <td>3.0</td>\n",
              "      <td>2.0</td>\n",
              "      <td>3</td>\n",
              "      <td>5</td>\n",
              "    </tr>\n",
              "    <tr>\n",
              "      <th>14</th>\n",
              "      <td>0.0</td>\n",
              "      <td>0.0</td>\n",
              "      <td>1.0</td>\n",
              "      <td>1</td>\n",
              "      <td>1</td>\n",
              "      <td>0.693147</td>\n",
              "      <td>2.0</td>\n",
              "      <td>3.178054</td>\n",
              "      <td>8.0</td>\n",
              "      <td>6.0</td>\n",
              "      <td>4.0</td>\n",
              "      <td>3</td>\n",
              "      <td>4</td>\n",
              "    </tr>\n",
              "    <tr>\n",
              "      <th>25</th>\n",
              "      <td>0.0</td>\n",
              "      <td>0.0</td>\n",
              "      <td>1.0</td>\n",
              "      <td>1</td>\n",
              "      <td>1</td>\n",
              "      <td>2.197225</td>\n",
              "      <td>2.0</td>\n",
              "      <td>3.891820</td>\n",
              "      <td>8.0</td>\n",
              "      <td>3.0</td>\n",
              "      <td>4.0</td>\n",
              "      <td>3</td>\n",
              "      <td>7</td>\n",
              "    </tr>\n",
              "    <tr>\n",
              "      <th>26</th>\n",
              "      <td>0.0</td>\n",
              "      <td>3.0</td>\n",
              "      <td>1.0</td>\n",
              "      <td>1</td>\n",
              "      <td>1</td>\n",
              "      <td>2.079442</td>\n",
              "      <td>2.0</td>\n",
              "      <td>3.871201</td>\n",
              "      <td>8.0</td>\n",
              "      <td>3.0</td>\n",
              "      <td>4.0</td>\n",
              "      <td>3</td>\n",
              "      <td>5</td>\n",
              "    </tr>\n",
              "    <tr>\n",
              "      <th>28</th>\n",
              "      <td>0.0</td>\n",
              "      <td>0.0</td>\n",
              "      <td>1.0</td>\n",
              "      <td>1</td>\n",
              "      <td>1</td>\n",
              "      <td>2.079442</td>\n",
              "      <td>1.0</td>\n",
              "      <td>3.737670</td>\n",
              "      <td>8.0</td>\n",
              "      <td>6.0</td>\n",
              "      <td>4.0</td>\n",
              "      <td>3</td>\n",
              "      <td>4</td>\n",
              "    </tr>\n",
              "    <tr>\n",
              "      <th>...</th>\n",
              "      <td>...</td>\n",
              "      <td>...</td>\n",
              "      <td>...</td>\n",
              "      <td>...</td>\n",
              "      <td>...</td>\n",
              "      <td>...</td>\n",
              "      <td>...</td>\n",
              "      <td>...</td>\n",
              "      <td>...</td>\n",
              "      <td>...</td>\n",
              "      <td>...</td>\n",
              "      <td>...</td>\n",
              "      <td>...</td>\n",
              "    </tr>\n",
              "    <tr>\n",
              "      <th>257628</th>\n",
              "      <td>0.0</td>\n",
              "      <td>0.0</td>\n",
              "      <td>1.0</td>\n",
              "      <td>1</td>\n",
              "      <td>1</td>\n",
              "      <td>2.564949</td>\n",
              "      <td>1.0</td>\n",
              "      <td>4.430817</td>\n",
              "      <td>8.0</td>\n",
              "      <td>3.0</td>\n",
              "      <td>4.0</td>\n",
              "      <td>1</td>\n",
              "      <td>4</td>\n",
              "    </tr>\n",
              "    <tr>\n",
              "      <th>257629</th>\n",
              "      <td>0.0</td>\n",
              "      <td>0.0</td>\n",
              "      <td>1.0</td>\n",
              "      <td>1</td>\n",
              "      <td>1</td>\n",
              "      <td>2.197225</td>\n",
              "      <td>2.0</td>\n",
              "      <td>3.931826</td>\n",
              "      <td>8.0</td>\n",
              "      <td>3.0</td>\n",
              "      <td>4.0</td>\n",
              "      <td>1</td>\n",
              "      <td>4</td>\n",
              "    </tr>\n",
              "    <tr>\n",
              "      <th>257639</th>\n",
              "      <td>0.0</td>\n",
              "      <td>0.0</td>\n",
              "      <td>1.0</td>\n",
              "      <td>1</td>\n",
              "      <td>1</td>\n",
              "      <td>1.945910</td>\n",
              "      <td>1.0</td>\n",
              "      <td>3.218876</td>\n",
              "      <td>1.0</td>\n",
              "      <td>3.0</td>\n",
              "      <td>4.0</td>\n",
              "      <td>3</td>\n",
              "      <td>7</td>\n",
              "    </tr>\n",
              "    <tr>\n",
              "      <th>257643</th>\n",
              "      <td>0.0</td>\n",
              "      <td>0.0</td>\n",
              "      <td>1.0</td>\n",
              "      <td>1</td>\n",
              "      <td>1</td>\n",
              "      <td>2.484907</td>\n",
              "      <td>1.0</td>\n",
              "      <td>4.094345</td>\n",
              "      <td>2.0</td>\n",
              "      <td>3.0</td>\n",
              "      <td>4.0</td>\n",
              "      <td>2</td>\n",
              "      <td>1</td>\n",
              "    </tr>\n",
              "    <tr>\n",
              "      <th>257649</th>\n",
              "      <td>0.0</td>\n",
              "      <td>0.0</td>\n",
              "      <td>2.0</td>\n",
              "      <td>1</td>\n",
              "      <td>2</td>\n",
              "      <td>2.639057</td>\n",
              "      <td>1.0</td>\n",
              "      <td>2.944439</td>\n",
              "      <td>8.0</td>\n",
              "      <td>3.0</td>\n",
              "      <td>4.0</td>\n",
              "      <td>3</td>\n",
              "      <td>5</td>\n",
              "    </tr>\n",
              "    <tr>\n",
              "      <th>257650</th>\n",
              "      <td>0.0</td>\n",
              "      <td>0.0</td>\n",
              "      <td>2.0</td>\n",
              "      <td>1</td>\n",
              "      <td>2</td>\n",
              "      <td>2.708050</td>\n",
              "      <td>2.0</td>\n",
              "      <td>3.784190</td>\n",
              "      <td>1.0</td>\n",
              "      <td>3.0</td>\n",
              "      <td>4.0</td>\n",
              "      <td>3</td>\n",
              "      <td>5</td>\n",
              "    </tr>\n",
              "  </tbody>\n",
              "</table>\n",
              "<p>68121 rows × 13 columns</p>\n",
              "</div>"
            ],
            "text/plain": [
              "        special_conditions_at_site  pedestrian_movement  \\\n",
              "6                              0.0                  0.0   \n",
              "8                              0.0                  2.0   \n",
              "14                             0.0                  0.0   \n",
              "25                             0.0                  0.0   \n",
              "26                             0.0                  3.0   \n",
              "28                             0.0                  0.0   \n",
              "...                            ...                  ...   \n",
              "257628                         0.0                  0.0   \n",
              "257629                         0.0                  0.0   \n",
              "257639                         0.0                  0.0   \n",
              "257643                         0.0                  0.0   \n",
              "257649                         0.0                  0.0   \n",
              "257650                         0.0                  0.0   \n",
              "\n",
              "        road_surface_conditions  light_conditions  weather_conditions  \\\n",
              "6                           1.0                 7                   1   \n",
              "8                           1.0                 1                   1   \n",
              "14                          1.0                 1                   1   \n",
              "25                          1.0                 1                   1   \n",
              "26                          1.0                 1                   1   \n",
              "28                          1.0                 1                   1   \n",
              "...                         ...               ...                 ...   \n",
              "257628                      1.0                 1                   1   \n",
              "257629                      1.0                 1                   1   \n",
              "257639                      1.0                 1                   1   \n",
              "257643                      1.0                 1                   1   \n",
              "257649                      2.0                 1                   2   \n",
              "257650                      2.0                 1                   2   \n",
              "\n",
              "        age_of_vehicle  sex_of_driver  age_of_driver  junction_location  \\\n",
              "6             2.197225            2.0       3.332205                2.0   \n",
              "8             0.693147            1.0       3.218876                1.0   \n",
              "14            0.693147            2.0       3.178054                8.0   \n",
              "25            2.197225            2.0       3.891820                8.0   \n",
              "26            2.079442            2.0       3.871201                8.0   \n",
              "28            2.079442            1.0       3.737670                8.0   \n",
              "...                ...            ...            ...                ...   \n",
              "257628        2.564949            1.0       4.430817                8.0   \n",
              "257629        2.197225            2.0       3.931826                8.0   \n",
              "257639        1.945910            1.0       3.218876                1.0   \n",
              "257643        2.484907            1.0       4.094345                2.0   \n",
              "257649        2.639057            1.0       2.944439                8.0   \n",
              "257650        2.708050            2.0       3.784190                1.0   \n",
              "\n",
              "        junction_detail  junction_control  accident_severity  day_of_week  \n",
              "6                   6.0               2.0                  3            5  \n",
              "8                   3.0               2.0                  3            5  \n",
              "14                  6.0               4.0                  3            4  \n",
              "25                  3.0               4.0                  3            7  \n",
              "26                  3.0               4.0                  3            5  \n",
              "28                  6.0               4.0                  3            4  \n",
              "...                 ...               ...                ...          ...  \n",
              "257628              3.0               4.0                  1            4  \n",
              "257629              3.0               4.0                  1            4  \n",
              "257639              3.0               4.0                  3            7  \n",
              "257643              3.0               4.0                  2            1  \n",
              "257649              3.0               4.0                  3            5  \n",
              "257650              3.0               4.0                  3            5  \n",
              "\n",
              "[68121 rows x 13 columns]"
            ]
          },
          "execution_count": 11,
          "metadata": {},
          "output_type": "execute_result"
        }
      ],
      "source": [
        "df2"
      ]
    },
    {
      "cell_type": "code",
      "execution_count": null,
      "metadata": {
        "_cell_guid": "1a3582ad-03b0-4564-864b-1a8774ee407b",
        "_uuid": "98b5384f81d89387be8f1fa9afed734c7b2b3e1e",
        "collapsed": true,
        "id": "-r5tGAiRjIwb",
        "outputId": "bf123992-8d2f-4894-dfbc-17802626a38d"
      },
      "outputs": [
        {
          "data": {
            "text/plain": [
              "array([3, 3, 3, ..., 3, 3, 3])"
            ]
          },
          "execution_count": 12,
          "metadata": {},
          "output_type": "execute_result"
        }
      ],
      "source": [
        "df1= df1[:15000] #keep 1500 to decrease running times\n",
        "df2= df2[:15000] #keep 15000\n",
        "\n",
        "Y = df2.accident_severity.values\n",
        "Y1 = df1.accident_severity.values\n",
        "Y"
      ]
    },
    {
      "cell_type": "code",
      "execution_count": null,
      "metadata": {
        "_cell_guid": "b82d9e53-6ce9-44b3-a518-074be959b7a2",
        "_uuid": "c165c4155c70b18736ac1bfb8aedf981b664e4cc",
        "collapsed": true,
        "id": "3miikOLHjIwb"
      },
      "outputs": [],
      "source": [
        "cols = df2.shape[1]\n",
        "X = df2.loc[:, df2.columns != 'accident_severity']\n",
        "X1 = df1.loc[:, df1.columns != 'accident_severity']\n",
        "X.columns;"
      ]
    },
    {
      "cell_type": "code",
      "execution_count": null,
      "metadata": {
        "_cell_guid": "f770ef96-2867-4691-8f72-b3c46b22aa68",
        "_uuid": "bcb0ecc911473d6f267c4557c0d57eb0c28d6fee",
        "collapsed": true,
        "id": "GczlY57WjIwb",
        "outputId": "a9f6d213-b4c5-41cb-df3c-e37547805c0b"
      },
      "outputs": [
        {
          "data": {
            "text/plain": [
              "(15000, 12)"
            ]
          },
          "execution_count": 14,
          "metadata": {},
          "output_type": "execute_result"
        },
        {
          "data": {
            "text/plain": [
              "(15000, 9)"
            ]
          },
          "execution_count": 14,
          "metadata": {},
          "output_type": "execute_result"
        }
      ],
      "source": [
        "X.shape\n",
        "X1.shape"
      ]
    },
    {
      "cell_type": "markdown",
      "metadata": {
        "_cell_guid": "c190c9a9-ca7e-4e26-9310-70027fe0250c",
        "_uuid": "cd7bbb64516cd671566812fec2f91c856246ef39",
        "id": "Sn85ZxqFjIwb"
      },
      "source": [
        "**Train machine learning algorithms without weather related data included**"
      ]
    },
    {
      "cell_type": "code",
      "execution_count": null,
      "metadata": {
        "_cell_guid": "bbe501fd-7d24-495c-85e5-8b7db2e11676",
        "_uuid": "54e8b2405ac6606d449c406e5ca88b7d3fbc53fe",
        "collapsed": true,
        "id": "NKS2nvM9jIwb",
        "outputId": "149d4468-37d4-4e76-843e-e2bb10d78807"
      },
      "outputs": [
        {
          "data": {
            "text/plain": [
              "SVC(C=1.0, cache_size=200, class_weight=None, coef0=0.0,\n",
              "  decision_function_shape='ovr', degree=3, gamma='auto', kernel='rbf',\n",
              "  max_iter=-1, probability=False, random_state=None, shrinking=True,\n",
              "  tol=0.001, verbose=False)"
            ]
          },
          "execution_count": 15,
          "metadata": {},
          "output_type": "execute_result"
        },
        {
          "data": {
            "text/plain": [
              "92.060000000000002"
            ]
          },
          "execution_count": 15,
          "metadata": {},
          "output_type": "execute_result"
        },
        {
          "data": {
            "text/plain": [
              "KNeighborsClassifier(algorithm='auto', leaf_size=30, metric='minkowski',\n",
              "           metric_params=None, n_jobs=1, n_neighbors=3, p=2,\n",
              "           weights='uniform')"
            ]
          },
          "execution_count": 15,
          "metadata": {},
          "output_type": "execute_result"
        },
        {
          "data": {
            "text/plain": [
              "90.400000000000006"
            ]
          },
          "execution_count": 15,
          "metadata": {},
          "output_type": "execute_result"
        },
        {
          "data": {
            "text/plain": [
              "LogisticRegression(C=1.0, class_weight=None, dual=False, fit_intercept=True,\n",
              "          intercept_scaling=1, max_iter=100, multi_class='ovr', n_jobs=1,\n",
              "          penalty='l2', random_state=None, solver='liblinear', tol=0.0001,\n",
              "          verbose=0, warm_start=False)"
            ]
          },
          "execution_count": 15,
          "metadata": {},
          "output_type": "execute_result"
        },
        {
          "data": {
            "text/plain": [
              "92.469999999999999"
            ]
          },
          "execution_count": 15,
          "metadata": {},
          "output_type": "execute_result"
        },
        {
          "data": {
            "text/plain": [
              "GaussianNB(priors=None)"
            ]
          },
          "execution_count": 15,
          "metadata": {},
          "output_type": "execute_result"
        },
        {
          "data": {
            "text/plain": [
              "90.0"
            ]
          },
          "execution_count": 15,
          "metadata": {},
          "output_type": "execute_result"
        },
        {
          "name": "stderr",
          "output_type": "stream",
          "text": [
            "/opt/conda/lib/python3.6/site-packages/sklearn/linear_model/stochastic_gradient.py:128: FutureWarning: max_iter and tol parameters have been added in <class 'sklearn.linear_model.perceptron.Perceptron'> in 0.19. If both are left unset, they default to max_iter=5 and tol=None. If tol is not None, max_iter defaults to max_iter=1000. From 0.21, default max_iter will be 1000, and default tol will be 1e-3.\n",
            "  \"and default tol will be 1e-3.\" % type(self), FutureWarning)\n"
          ]
        },
        {
          "data": {
            "text/plain": [
              "Perceptron(alpha=0.0001, class_weight=None, eta0=1.0, fit_intercept=True,\n",
              "      max_iter=None, n_iter=None, n_jobs=1, penalty=None, random_state=0,\n",
              "      shuffle=True, tol=None, verbose=0, warm_start=False)"
            ]
          },
          "execution_count": 15,
          "metadata": {},
          "output_type": "execute_result"
        },
        {
          "data": {
            "text/plain": [
              "92.0"
            ]
          },
          "execution_count": 15,
          "metadata": {},
          "output_type": "execute_result"
        },
        {
          "data": {
            "text/plain": [
              "LinearSVC(C=1.0, class_weight=None, dual=True, fit_intercept=True,\n",
              "     intercept_scaling=1, loss='squared_hinge', max_iter=1000,\n",
              "     multi_class='ovr', penalty='l2', random_state=None, tol=0.0001,\n",
              "     verbose=0)"
            ]
          },
          "execution_count": 15,
          "metadata": {},
          "output_type": "execute_result"
        },
        {
          "data": {
            "text/plain": [
              "92.060000000000002"
            ]
          },
          "execution_count": 15,
          "metadata": {},
          "output_type": "execute_result"
        },
        {
          "name": "stderr",
          "output_type": "stream",
          "text": [
            "/opt/conda/lib/python3.6/site-packages/sklearn/linear_model/stochastic_gradient.py:128: FutureWarning: max_iter and tol parameters have been added in <class 'sklearn.linear_model.stochastic_gradient.SGDClassifier'> in 0.19. If both are left unset, they default to max_iter=5 and tol=None. If tol is not None, max_iter defaults to max_iter=1000. From 0.21, default max_iter will be 1000, and default tol will be 1e-3.\n",
            "  \"and default tol will be 1e-3.\" % type(self), FutureWarning)\n"
          ]
        },
        {
          "data": {
            "text/plain": [
              "SGDClassifier(alpha=0.0001, average=False, class_weight=None, epsilon=0.1,\n",
              "       eta0=0.0, fit_intercept=True, l1_ratio=0.15,\n",
              "       learning_rate='optimal', loss='hinge', max_iter=None, n_iter=None,\n",
              "       n_jobs=1, penalty='l2', power_t=0.5, random_state=None,\n",
              "       shuffle=True, tol=None, verbose=0, warm_start=False)"
            ]
          },
          "execution_count": 15,
          "metadata": {},
          "output_type": "execute_result"
        },
        {
          "data": {
            "text/plain": [
              "92.060000000000002"
            ]
          },
          "execution_count": 15,
          "metadata": {},
          "output_type": "execute_result"
        },
        {
          "data": {
            "text/plain": [
              "DecisionTreeClassifier(class_weight=None, criterion='gini', max_depth=None,\n",
              "            max_features=None, max_leaf_nodes=None,\n",
              "            min_impurity_decrease=0.0, min_impurity_split=None,\n",
              "            min_samples_leaf=1, min_samples_split=2,\n",
              "            min_weight_fraction_leaf=0.0, presort=False, random_state=None,\n",
              "            splitter='best')"
            ]
          },
          "execution_count": 15,
          "metadata": {},
          "output_type": "execute_result"
        },
        {
          "data": {
            "text/plain": [
              "86.459999999999994"
            ]
          },
          "execution_count": 15,
          "metadata": {},
          "output_type": "execute_result"
        },
        {
          "data": {
            "text/plain": [
              "RandomForestClassifier(bootstrap=True, class_weight=None, criterion='gini',\n",
              "            max_depth=None, max_features='auto', max_leaf_nodes=None,\n",
              "            min_impurity_decrease=0.0, min_impurity_split=None,\n",
              "            min_samples_leaf=1, min_samples_split=2,\n",
              "            min_weight_fraction_leaf=0.0, n_estimators=100, n_jobs=1,\n",
              "            oob_score=False, random_state=None, verbose=0,\n",
              "            warm_start=False)"
            ]
          },
          "execution_count": 15,
          "metadata": {},
          "output_type": "execute_result"
        },
        {
          "data": {
            "text/plain": [
              "0.99383084577114433"
            ]
          },
          "execution_count": 15,
          "metadata": {},
          "output_type": "execute_result"
        },
        {
          "data": {
            "text/plain": [
              "92.260000000000005"
            ]
          },
          "execution_count": 15,
          "metadata": {},
          "output_type": "execute_result"
        }
      ],
      "source": [
        "from sklearn.linear_model import LogisticRegression\n",
        "from sklearn.svm import SVC, LinearSVC\n",
        "from sklearn.ensemble import RandomForestClassifier\n",
        "from sklearn.neighbors import KNeighborsClassifier\n",
        "from sklearn.naive_bayes import GaussianNB\n",
        "from sklearn.linear_model import Perceptron\n",
        "from sklearn.linear_model import SGDClassifier\n",
        "from sklearn.tree import DecisionTreeClassifier\n",
        "from sklearn.model_selection import train_test_split\n",
        "\n",
        "X_train1, X_test1,Y_train1,Y_test1 = train_test_split(X1, Y1, test_size=0.33, random_state=99)\n",
        "#Without weather\n",
        "svc = SVC()\n",
        "svc.fit(X_train1, Y_train1)\n",
        "Y_pred = svc.predict(X_test1)\n",
        "acc_svc1 = round(svc.score(X_test1, Y_test1) * 100, 2)\n",
        "acc_svc1\n",
        "\n",
        "knn = KNeighborsClassifier(n_neighbors = 3)\n",
        "knn.fit(X_train1, Y_train1)\n",
        "Y_pred = knn.predict(X_test1)\n",
        "acc_knn1 = round(knn.score(X_test1, Y_test1) * 100, 2)\n",
        "acc_knn1\n",
        "\n",
        "\n",
        "# Logistic Regression\n",
        "logreg = LogisticRegression()\n",
        "logreg.fit(X_train1, Y_train1)\n",
        "Y_pred = logreg.predict(X_test1)\n",
        "acc_log1 = round(logreg.score(X_train1, Y_train1) * 100, 2)\n",
        "acc_log1\n",
        "\n",
        "\n",
        "# Gaussian Naive Bayes\n",
        "\n",
        "gaussian = GaussianNB()\n",
        "gaussian.fit(X_train1, Y_train1)\n",
        "Y_pred = gaussian.predict(X_test1)\n",
        "acc_gaussian1 = round(gaussian.score(X_test1, Y_test1) * 100, 2)\n",
        "acc_gaussian1\n",
        "\n",
        "# Perceptron\n",
        "\n",
        "perceptron = Perceptron()\n",
        "perceptron.fit(X_train1, Y_train1)\n",
        "Y_pred = perceptron.predict(X_test1)\n",
        "acc_perceptron1 = round(perceptron.score(X_test1, Y_test1) * 100, 2)\n",
        "acc_perceptron1\n",
        "\n",
        "# Linear SVC\n",
        "\n",
        "linear_svc = LinearSVC()\n",
        "linear_svc.fit(X_train1, Y_train1)\n",
        "Y_pred = linear_svc.predict(X_test1)\n",
        "acc_linear_svc1 = round(linear_svc.score(X_test1, Y_test1) * 100, 2)\n",
        "acc_linear_svc1\n",
        "\n",
        "# Stochastic Gradient Descent\n",
        "\n",
        "sgd = SGDClassifier()\n",
        "sgd.fit(X_train1, Y_train1)\n",
        "Y_pred = sgd.predict(X_test1)\n",
        "acc_sgd1 = round(sgd.score(X_test1, Y_test1) * 100, 2)\n",
        "acc_sgd1\n",
        "\n",
        "# Decision Tree\n",
        "\n",
        "decision_tree = DecisionTreeClassifier()\n",
        "decision_tree.fit(X_train1, Y_train1)\n",
        "Y_pred = decision_tree.predict(X_test1)\n",
        "acc_decision_tree1 = round(decision_tree.score(X_test1, Y_test1) * 100, 2)\n",
        "acc_decision_tree1\n",
        "\n",
        "# Random Forest\n",
        "\n",
        "random_forest = RandomForestClassifier(n_estimators=100)\n",
        "random_forest.fit(X_train1, Y_train1)\n",
        "Y_pred = random_forest.predict(X_test1)\n",
        "random_forest.score(X_train1, Y_train1)\n",
        "acc_random_forest1 = round(random_forest.score(X_test1, Y_test1) * 100, 2)\n",
        "acc_random_forest1\n"
      ]
    },
    {
      "cell_type": "code",
      "execution_count": null,
      "metadata": {
        "_cell_guid": "77d79af9-d737-47ff-90fd-1f497af1e287",
        "_uuid": "1033ca19bf14b98ee32fcb90ca6cd8e09c49435e",
        "collapsed": true,
        "id": "_sZD051ajIwb",
        "outputId": "8bdb6fad-50ee-4b3f-c87f-07a8878d55f3"
      },
      "outputs": [
        {
          "data": {
            "text/plain": [
              "SVC(C=1.0, cache_size=200, class_weight=None, coef0=0.0,\n",
              "  decision_function_shape='ovr', degree=3, gamma='auto', kernel='rbf',\n",
              "  max_iter=-1, probability=False, random_state=None, shrinking=True,\n",
              "  tol=0.001, verbose=False)"
            ]
          },
          "execution_count": 16,
          "metadata": {},
          "output_type": "execute_result"
        },
        {
          "data": {
            "text/plain": [
              "92.120000000000005"
            ]
          },
          "execution_count": 16,
          "metadata": {},
          "output_type": "execute_result"
        },
        {
          "data": {
            "text/plain": [
              "KNeighborsClassifier(algorithm='auto', leaf_size=30, metric='minkowski',\n",
              "           metric_params=None, n_jobs=1, n_neighbors=3, p=2,\n",
              "           weights='uniform')"
            ]
          },
          "execution_count": 16,
          "metadata": {},
          "output_type": "execute_result"
        },
        {
          "data": {
            "text/plain": [
              "90.200000000000003"
            ]
          },
          "execution_count": 16,
          "metadata": {},
          "output_type": "execute_result"
        },
        {
          "data": {
            "text/plain": [
              "LogisticRegression(C=1.0, class_weight=None, dual=False, fit_intercept=True,\n",
              "          intercept_scaling=1, max_iter=100, multi_class='ovr', n_jobs=1,\n",
              "          penalty='l2', random_state=None, solver='liblinear', tol=0.0001,\n",
              "          verbose=0, warm_start=False)"
            ]
          },
          "execution_count": 16,
          "metadata": {},
          "output_type": "execute_result"
        },
        {
          "data": {
            "text/plain": [
              "92.469999999999999"
            ]
          },
          "execution_count": 16,
          "metadata": {},
          "output_type": "execute_result"
        },
        {
          "data": {
            "text/plain": [
              "GaussianNB(priors=None)"
            ]
          },
          "execution_count": 16,
          "metadata": {},
          "output_type": "execute_result"
        },
        {
          "data": {
            "text/plain": [
              "87.939999999999998"
            ]
          },
          "execution_count": 16,
          "metadata": {},
          "output_type": "execute_result"
        },
        {
          "name": "stderr",
          "output_type": "stream",
          "text": [
            "/opt/conda/lib/python3.6/site-packages/sklearn/linear_model/stochastic_gradient.py:128: FutureWarning: max_iter and tol parameters have been added in <class 'sklearn.linear_model.perceptron.Perceptron'> in 0.19. If both are left unset, they default to max_iter=5 and tol=None. If tol is not None, max_iter defaults to max_iter=1000. From 0.21, default max_iter will be 1000, and default tol will be 1e-3.\n",
            "  \"and default tol will be 1e-3.\" % type(self), FutureWarning)\n"
          ]
        },
        {
          "data": {
            "text/plain": [
              "Perceptron(alpha=0.0001, class_weight=None, eta0=1.0, fit_intercept=True,\n",
              "      max_iter=None, n_iter=None, n_jobs=1, penalty=None, random_state=0,\n",
              "      shuffle=True, tol=None, verbose=0, warm_start=False)"
            ]
          },
          "execution_count": 16,
          "metadata": {},
          "output_type": "execute_result"
        },
        {
          "data": {
            "text/plain": [
              "92.060000000000002"
            ]
          },
          "execution_count": 16,
          "metadata": {},
          "output_type": "execute_result"
        },
        {
          "data": {
            "text/plain": [
              "LinearSVC(C=1.0, class_weight=None, dual=True, fit_intercept=True,\n",
              "     intercept_scaling=1, loss='squared_hinge', max_iter=1000,\n",
              "     multi_class='ovr', penalty='l2', random_state=None, tol=0.0001,\n",
              "     verbose=0)"
            ]
          },
          "execution_count": 16,
          "metadata": {},
          "output_type": "execute_result"
        },
        {
          "data": {
            "text/plain": [
              "92.060000000000002"
            ]
          },
          "execution_count": 16,
          "metadata": {},
          "output_type": "execute_result"
        },
        {
          "name": "stderr",
          "output_type": "stream",
          "text": [
            "/opt/conda/lib/python3.6/site-packages/sklearn/linear_model/stochastic_gradient.py:128: FutureWarning: max_iter and tol parameters have been added in <class 'sklearn.linear_model.stochastic_gradient.SGDClassifier'> in 0.19. If both are left unset, they default to max_iter=5 and tol=None. If tol is not None, max_iter defaults to max_iter=1000. From 0.21, default max_iter will be 1000, and default tol will be 1e-3.\n",
            "  \"and default tol will be 1e-3.\" % type(self), FutureWarning)\n"
          ]
        },
        {
          "data": {
            "text/plain": [
              "SGDClassifier(alpha=0.0001, average=False, class_weight=None, epsilon=0.1,\n",
              "       eta0=0.0, fit_intercept=True, l1_ratio=0.15,\n",
              "       learning_rate='optimal', loss='hinge', max_iter=None, n_iter=None,\n",
              "       n_jobs=1, penalty='l2', power_t=0.5, random_state=None,\n",
              "       shuffle=True, tol=None, verbose=0, warm_start=False)"
            ]
          },
          "execution_count": 16,
          "metadata": {},
          "output_type": "execute_result"
        },
        {
          "data": {
            "text/plain": [
              "92.040000000000006"
            ]
          },
          "execution_count": 16,
          "metadata": {},
          "output_type": "execute_result"
        },
        {
          "data": {
            "text/plain": [
              "DecisionTreeClassifier(class_weight=None, criterion='gini', max_depth=None,\n",
              "            max_features=None, max_leaf_nodes=None,\n",
              "            min_impurity_decrease=0.0, min_impurity_split=None,\n",
              "            min_samples_leaf=1, min_samples_split=2,\n",
              "            min_weight_fraction_leaf=0.0, presort=False, random_state=None,\n",
              "            splitter='best')"
            ]
          },
          "execution_count": 16,
          "metadata": {},
          "output_type": "execute_result"
        },
        {
          "data": {
            "text/plain": [
              "86.180000000000007"
            ]
          },
          "execution_count": 16,
          "metadata": {},
          "output_type": "execute_result"
        },
        {
          "data": {
            "text/plain": [
              "RandomForestClassifier(bootstrap=True, class_weight=None, criterion='gini',\n",
              "            max_depth=None, max_features='auto', max_leaf_nodes=None,\n",
              "            min_impurity_decrease=0.0, min_impurity_split=None,\n",
              "            min_samples_leaf=1, min_samples_split=2,\n",
              "            min_weight_fraction_leaf=0.0, n_estimators=100, n_jobs=1,\n",
              "            oob_score=False, random_state=None, verbose=0,\n",
              "            warm_start=False)"
            ]
          },
          "execution_count": 16,
          "metadata": {},
          "output_type": "execute_result"
        },
        {
          "data": {
            "text/plain": [
              "0.9977114427860696"
            ]
          },
          "execution_count": 16,
          "metadata": {},
          "output_type": "execute_result"
        },
        {
          "data": {
            "text/plain": [
              "92.590000000000003"
            ]
          },
          "execution_count": 16,
          "metadata": {},
          "output_type": "execute_result"
        }
      ],
      "source": [
        "# Same with weather related data\n",
        "# Support Vector Machines\n",
        "X_train, X_test,Y_train,Y_test = train_test_split(X, Y, test_size=0.33, random_state=99)\n",
        "#with weather condition\n",
        "\n",
        "svc = SVC()\n",
        "svc.fit(X_train, Y_train)\n",
        "Y_pred = svc.predict(X_test)\n",
        "acc_svc = round(svc.score(X_test, Y_test) * 100, 2)\n",
        "acc_svc\n",
        "#KNN\n",
        "\n",
        "knn = KNeighborsClassifier(n_neighbors = 3)\n",
        "knn.fit(X_train, Y_train)\n",
        "Y_pred = knn.predict(X_test)\n",
        "acc_knn = round(knn.score(X_test, Y_test) * 100, 2)\n",
        "acc_knn\n",
        "\n",
        "# Logistic Regression\n",
        "logreg = LogisticRegression()\n",
        "logreg.fit(X_train, Y_train)\n",
        "Y_pred = logreg.predict(X_test)\n",
        "acc_log = round(logreg.score(X_train, Y_train) * 100, 2)\n",
        "acc_log\n",
        "\n",
        "# Gaussian Naive Bayes\n",
        "\n",
        "gaussian = GaussianNB()\n",
        "gaussian.fit(X_train, Y_train)\n",
        "Y_pred = gaussian.predict(X_test)\n",
        "acc_gaussian = round(gaussian.score(X_test, Y_test) * 100, 2)\n",
        "acc_gaussian\n",
        "\n",
        "# Perceptron\n",
        "\n",
        "perceptron = Perceptron()\n",
        "perceptron.fit(X_train, Y_train)\n",
        "Y_pred = perceptron.predict(X_test)\n",
        "acc_perceptron = round(perceptron.score(X_test, Y_test) * 100, 2)\n",
        "acc_perceptron\n",
        "\n",
        "# Linear SVC\n",
        "\n",
        "linear_svc = LinearSVC()\n",
        "linear_svc.fit(X_train, Y_train)\n",
        "Y_pred = linear_svc.predict(X_test)\n",
        "acc_linear_svc = round(linear_svc.score(X_test, Y_test) * 100, 2)\n",
        "acc_linear_svc\n",
        "\n",
        "# Stochastic Gradient Descent\n",
        "\n",
        "sgd = SGDClassifier()\n",
        "sgd.fit(X_train, Y_train)\n",
        "Y_pred = sgd.predict(X_test)\n",
        "acc_sgd = round(sgd.score(X_test, Y_test) * 100, 2)\n",
        "acc_sgd\n",
        "\n",
        "# Decision Tree\n",
        "\n",
        "decision_tree = DecisionTreeClassifier()\n",
        "decision_tree.fit(X_train, Y_train)\n",
        "Y_pred = decision_tree.predict(X_test)\n",
        "acc_decision_tree = round(decision_tree.score(X_test, Y_test) * 100, 2)\n",
        "acc_decision_tree\n",
        "\n",
        "# Random Forest\n",
        "\n",
        "random_forest = RandomForestClassifier(n_estimators=100)\n",
        "random_forest.fit(X_train, Y_train)\n",
        "Y_pred = random_forest.predict(X_test)\n",
        "random_forest.score(X_train, Y_train)\n",
        "acc_random_forest = round(random_forest.score(X_test, Y_test) * 100, 2)\n",
        "acc_random_forest"
      ]
    },
    {
      "cell_type": "code",
      "execution_count": null,
      "metadata": {
        "_cell_guid": "fd966c00-59aa-4379-9cf4-2c24ac99ff70",
        "_uuid": "59d0a7a34f5e0537602a8ab1e8f5df769de82b3b",
        "collapsed": true,
        "id": "5GgyRV44jIwc",
        "outputId": "3e304406-eec5-4a9e-fb97-8bc115a35cdf"
      },
      "outputs": [
        {
          "name": "stdout",
          "output_type": "stream",
          "text": [
            "Machine Learning algorithm scores without weather related conditions\n"
          ]
        },
        {
          "data": {
            "text/html": [
              "<div>\n",
              "<style>\n",
              "    .dataframe thead tr:only-child th {\n",
              "        text-align: right;\n",
              "    }\n",
              "\n",
              "    .dataframe thead th {\n",
              "        text-align: left;\n",
              "    }\n",
              "\n",
              "    .dataframe tbody tr th {\n",
              "        vertical-align: top;\n",
              "    }\n",
              "</style>\n",
              "<table border=\"1\" class=\"dataframe\">\n",
              "  <thead>\n",
              "    <tr style=\"text-align: right;\">\n",
              "      <th></th>\n",
              "      <th>Model</th>\n",
              "      <th>Score</th>\n",
              "    </tr>\n",
              "  </thead>\n",
              "  <tbody>\n",
              "    <tr>\n",
              "      <th>2</th>\n",
              "      <td>Logistic Regression</td>\n",
              "      <td>92.47</td>\n",
              "    </tr>\n",
              "    <tr>\n",
              "      <th>3</th>\n",
              "      <td>Random Forest</td>\n",
              "      <td>92.26</td>\n",
              "    </tr>\n",
              "    <tr>\n",
              "      <th>0</th>\n",
              "      <td>Support Vector Machines</td>\n",
              "      <td>92.06</td>\n",
              "    </tr>\n",
              "    <tr>\n",
              "      <th>6</th>\n",
              "      <td>Stochastic Gradient Decent</td>\n",
              "      <td>92.06</td>\n",
              "    </tr>\n",
              "    <tr>\n",
              "      <th>7</th>\n",
              "      <td>Linear SVC</td>\n",
              "      <td>92.06</td>\n",
              "    </tr>\n",
              "    <tr>\n",
              "      <th>5</th>\n",
              "      <td>Perceptron</td>\n",
              "      <td>92.00</td>\n",
              "    </tr>\n",
              "    <tr>\n",
              "      <th>1</th>\n",
              "      <td>KNN</td>\n",
              "      <td>90.40</td>\n",
              "    </tr>\n",
              "    <tr>\n",
              "      <th>4</th>\n",
              "      <td>Naive Bayes</td>\n",
              "      <td>90.00</td>\n",
              "    </tr>\n",
              "    <tr>\n",
              "      <th>8</th>\n",
              "      <td>Decision Tree</td>\n",
              "      <td>86.46</td>\n",
              "    </tr>\n",
              "  </tbody>\n",
              "</table>\n",
              "</div>"
            ],
            "text/plain": [
              "                        Model  Score\n",
              "2         Logistic Regression  92.47\n",
              "3               Random Forest  92.26\n",
              "0     Support Vector Machines  92.06\n",
              "6  Stochastic Gradient Decent  92.06\n",
              "7                  Linear SVC  92.06\n",
              "5                  Perceptron  92.00\n",
              "1                         KNN  90.40\n",
              "4                 Naive Bayes  90.00\n",
              "8               Decision Tree  86.46"
            ]
          },
          "execution_count": 17,
          "metadata": {},
          "output_type": "execute_result"
        },
        {
          "name": "stdout",
          "output_type": "stream",
          "text": [
            "Machine Learning algorithm scores with weather related conditions\n"
          ]
        },
        {
          "data": {
            "text/html": [
              "<div>\n",
              "<style>\n",
              "    .dataframe thead tr:only-child th {\n",
              "        text-align: right;\n",
              "    }\n",
              "\n",
              "    .dataframe thead th {\n",
              "        text-align: left;\n",
              "    }\n",
              "\n",
              "    .dataframe tbody tr th {\n",
              "        vertical-align: top;\n",
              "    }\n",
              "</style>\n",
              "<table border=\"1\" class=\"dataframe\">\n",
              "  <thead>\n",
              "    <tr style=\"text-align: right;\">\n",
              "      <th></th>\n",
              "      <th>Model</th>\n",
              "      <th>Score</th>\n",
              "    </tr>\n",
              "  </thead>\n",
              "  <tbody>\n",
              "    <tr>\n",
              "      <th>3</th>\n",
              "      <td>Random Forest</td>\n",
              "      <td>92.59</td>\n",
              "    </tr>\n",
              "    <tr>\n",
              "      <th>2</th>\n",
              "      <td>Logistic Regression</td>\n",
              "      <td>92.47</td>\n",
              "    </tr>\n",
              "    <tr>\n",
              "      <th>0</th>\n",
              "      <td>Support Vector Machines</td>\n",
              "      <td>92.12</td>\n",
              "    </tr>\n",
              "    <tr>\n",
              "      <th>5</th>\n",
              "      <td>Perceptron</td>\n",
              "      <td>92.06</td>\n",
              "    </tr>\n",
              "    <tr>\n",
              "      <th>7</th>\n",
              "      <td>Linear SVC</td>\n",
              "      <td>92.06</td>\n",
              "    </tr>\n",
              "    <tr>\n",
              "      <th>6</th>\n",
              "      <td>Stochastic Gradient Decent</td>\n",
              "      <td>92.04</td>\n",
              "    </tr>\n",
              "    <tr>\n",
              "      <th>1</th>\n",
              "      <td>KNN</td>\n",
              "      <td>90.20</td>\n",
              "    </tr>\n",
              "    <tr>\n",
              "      <th>4</th>\n",
              "      <td>Naive Bayes</td>\n",
              "      <td>87.94</td>\n",
              "    </tr>\n",
              "    <tr>\n",
              "      <th>8</th>\n",
              "      <td>Decision Tree</td>\n",
              "      <td>86.18</td>\n",
              "    </tr>\n",
              "  </tbody>\n",
              "</table>\n",
              "</div>"
            ],
            "text/plain": [
              "                        Model  Score\n",
              "3               Random Forest  92.59\n",
              "2         Logistic Regression  92.47\n",
              "0     Support Vector Machines  92.12\n",
              "5                  Perceptron  92.06\n",
              "7                  Linear SVC  92.06\n",
              "6  Stochastic Gradient Decent  92.04\n",
              "1                         KNN  90.20\n",
              "4                 Naive Bayes  87.94\n",
              "8               Decision Tree  86.18"
            ]
          },
          "execution_count": 17,
          "metadata": {},
          "output_type": "execute_result"
        }
      ],
      "source": [
        "print(\"Machine Learning algorithm scores without weather related conditions\")\n",
        "models = pd.DataFrame({\n",
        "    'Model': ['Support Vector Machines', 'KNN', 'Logistic Regression',\n",
        "              'Random Forest', 'Naive Bayes', 'Perceptron',\n",
        "              'Stochastic Gradient Decent', 'Linear SVC',\n",
        "              'Decision Tree'],\n",
        "    'Score': [acc_svc1, acc_knn1, acc_log1,\n",
        "              acc_random_forest1, acc_gaussian1, acc_perceptron1,\n",
        "              acc_sgd1, acc_linear_svc1, acc_decision_tree1]})\n",
        "models.sort_values(by='Score', ascending=False)\n",
        "print(\"Machine Learning algorithm scores with weather related conditions\")\n",
        "models = pd.DataFrame({\n",
        "    'Model': ['Support Vector Machines', 'KNN', 'Logistic Regression',\n",
        "              'Random Forest', 'Naive Bayes', 'Perceptron',\n",
        "              'Stochastic Gradient Decent', 'Linear SVC',\n",
        "              'Decision Tree'],\n",
        "    'Score': [acc_svc, acc_knn, acc_log,\n",
        "              acc_random_forest, acc_gaussian, acc_perceptron,\n",
        "              acc_sgd, acc_linear_svc, acc_decision_tree]})\n",
        "models.sort_values(by='Score', ascending=False)\n",
        "\n"
      ]
    },
    {
      "cell_type": "markdown",
      "metadata": {
        "_cell_guid": "aa4e3615-d241-4bbc-ae19-f57df3a0dcf6",
        "_uuid": "7308c1b29e96a953b04a00621c2b1293f74616b5",
        "id": "NeI1UeawjIwc"
      },
      "source": [
        "**The results indicated that adding weather-related features to a machine learning algorithm in predicting severity of an accident did not substantially change the accuracy of models.\n",
        "**\n",
        "**The results indicate a high accuracy.\n",
        "As this is multilabel classification, the accuracy measure in this case computes the amount of labels predicted that exactly match the corresponding set of labels.**\n",
        "\n",
        "**However, we have to take into account the accuracy paradox as sometimes it may be desirable to select a model with a lower accuracy because it has a greater predictive power on the problem. In our dataset  there is a large class imbalance as most accidents are classified as mild(class 3) as shown in the graph below.**"
      ]
    },
    {
      "cell_type": "markdown",
      "metadata": {
        "_cell_guid": "70dec494-e22d-4413-8226-2ba4e90fe73e",
        "_uuid": "579c4755a0fb42b6de5168ee53d48707f72ba9c0",
        "id": "t-QwicXljIwc"
      },
      "source": []
    },
    {
      "cell_type": "code",
      "execution_count": null,
      "metadata": {
        "_cell_guid": "d1148777-681f-4f20-ba23-cf3ea76443da",
        "_uuid": "78f546c459fd30976cca68a4f37649e24018144a",
        "collapsed": true,
        "id": "XcoNcxvYjIwc",
        "outputId": "e3fa86bc-2616-4021-fe89-90d0163e2780"
      },
      "outputs": [
        {
          "data": {
            "text/plain": [
              "RandomForestClassifier(bootstrap=True, class_weight=None, criterion='gini',\n",
              "            max_depth=None, max_features='auto', max_leaf_nodes=None,\n",
              "            min_impurity_decrease=0.0, min_impurity_split=None,\n",
              "            min_samples_leaf=1, min_samples_split=2,\n",
              "            min_weight_fraction_leaf=0.0, n_estimators=10, n_jobs=1,\n",
              "            oob_score=False, random_state=4, verbose=0, warm_start=False)"
            ]
          },
          "execution_count": 18,
          "metadata": {},
          "output_type": "execute_result"
        },
        {
          "name": "stdout",
          "output_type": "stream",
          "text": [
            "Confusion matrix: \n",
            " [[   2    2   22]\n",
            " [   1   53  274]\n",
            " [   3   73 4070]]\n",
            "Classification report: \n",
            "              precision    recall  f1-score   support\n",
            "\n",
            "          1       0.33      0.08      0.12        26\n",
            "          2       0.41      0.16      0.23       328\n",
            "          3       0.93      0.98      0.96      4146\n",
            "\n",
            "avg / total       0.89      0.92      0.90      4500\n",
            "\n"
          ]
        },
        {
          "data": {
            "text/plain": [
              "3    4146\n",
              "2     328\n",
              "1      26\n",
              "Name: accident_severity, dtype: int64"
            ]
          },
          "execution_count": 18,
          "metadata": {},
          "output_type": "execute_result"
        }
      ],
      "source": [
        "# Confusion matrix with random forest\n",
        "from sklearn.metrics import classification_report, confusion_matrix\n",
        "from sklearn.ensemble import RandomForestClassifier\n",
        "x,y = df1.loc[:,df1.columns != 'accident_severity'], df1.loc[:,'accident_severity']\n",
        "x_train,x_test,y_train,y_test = train_test_split(x,y,test_size = 0.3,random_state = 1)\n",
        "rf = RandomForestClassifier(random_state = 4)\n",
        "rf.fit(x_train,y_train)\n",
        "y_pred = rf.predict(x_test)\n",
        "cm = confusion_matrix(y_test,y_pred)\n",
        "print('Confusion matrix: \\n',cm)\n",
        "print('Classification report: \\n',classification_report(y_test,y_pred))\n",
        "y_test.value_counts()"
      ]
    },
    {
      "cell_type": "markdown",
      "metadata": {
        "_cell_guid": "c4091235-3af0-4f17-a409-bb7b9b66e4c0",
        "_uuid": "32afe452b310045548f1ce772a84875daeb7dd29",
        "id": "Kef8ZgMijIwc"
      },
      "source": [
        "**A model can predict the value of the majority class for all predictions and yield a high accuracy although almost all of the predictions would concern the majority class; hence, yielding a very high accuracy. Precision-Recall is a useful measure of success of prediction when the classes are very imbalanced. Precision is a measure of result relevancy, while recall is a measure of how many truly relevant results are returned. Moreover, another metric is F1 score which is a measure of a test's accuracy. It considers both the precision p and the recall r of the test to compute the score and returns an compromise between precision and recall. **\n",
        "\n",
        "**A clean and unambiguous way to present the prediction results of a classifier is to use a use a confusion matrix. On below is for without weather conditions and one below is with weather conditions included\n",
        "**"
      ]
    },
    {
      "cell_type": "code",
      "execution_count": null,
      "metadata": {
        "_cell_guid": "bfd2ac1b-6ae5-42fa-874f-609bd2ca21ab",
        "_uuid": "3642a69b56e5ae44f48481a68ec341ea0205be44",
        "collapsed": true,
        "id": "kdsX25rpjIwc",
        "outputId": "d1fc1d66-951c-4f7f-d781-796f0f6c1db3"
      },
      "outputs": [
        {
          "data": {
            "text/plain": [
              "RandomForestClassifier(bootstrap=True, class_weight=None, criterion='gini',\n",
              "            max_depth=None, max_features='auto', max_leaf_nodes=None,\n",
              "            min_impurity_decrease=0.0, min_impurity_split=None,\n",
              "            min_samples_leaf=1, min_samples_split=2,\n",
              "            min_weight_fraction_leaf=0.0, n_estimators=10, n_jobs=1,\n",
              "            oob_score=False, random_state=4, verbose=0, warm_start=False)"
            ]
          },
          "execution_count": 19,
          "metadata": {},
          "output_type": "execute_result"
        },
        {
          "name": "stdout",
          "output_type": "stream",
          "text": [
            "Confusion matrix: \n",
            " [[   2    1   23]\n",
            " [   1   56  271]\n",
            " [   1   71 4074]]\n",
            "Classification report: \n",
            "              precision    recall  f1-score   support\n",
            "\n",
            "          1       0.50      0.08      0.13        26\n",
            "          2       0.44      0.17      0.25       328\n",
            "          3       0.93      0.98      0.96      4146\n",
            "\n",
            "avg / total       0.89      0.92      0.90      4500\n",
            "\n"
          ]
        },
        {
          "data": {
            "text/plain": [
              "3    4146\n",
              "2     328\n",
              "1      26\n",
              "Name: accident_severity, dtype: int64"
            ]
          },
          "execution_count": 19,
          "metadata": {},
          "output_type": "execute_result"
        }
      ],
      "source": [
        "# Confusion matrix with random forest\n",
        "from sklearn.metrics import classification_report, confusion_matrix\n",
        "from sklearn.ensemble import RandomForestClassifier\n",
        "x,y = df2.loc[:,df2.columns != 'accident_severity'], df2.loc[:,'accident_severity']\n",
        "x_train,x_test,y_train,y_test = train_test_split(x,y,test_size = 0.3,random_state = 1)\n",
        "rf = RandomForestClassifier(random_state = 4)\n",
        "rf.fit(x_train,y_train)\n",
        "y_pred = rf.predict(x_test)\n",
        "cm = confusion_matrix(y_test,y_pred)\n",
        "print('Confusion matrix: \\n',cm)\n",
        "print('Classification report: \\n',classification_report(y_test,y_pred))\n",
        "y_test.value_counts()"
      ]
    },
    {
      "cell_type": "markdown",
      "metadata": {
        "_cell_guid": "7ccd0051-abbf-4ce8-9d64-8b55217d3df1",
        "_uuid": "3afc3217de22976f399aaea503d5725b819411ea",
        "id": "y1c5Qms1jIwc"
      },
      "source": [
        "**The precision, recall, and F1 score are also at high levels of 0.89, 0.92, and 0.9 respectively - meaning that the classification is successful and the accuracy of the model is more or less 90\\% when investigated on multiple metrics. **\n",
        "\n",
        "**When taking into consideration the weather condition, the lighting condition, and road surface conditions the accuracy of machine learning models are as follows: **"
      ]
    },
    {
      "cell_type": "code",
      "execution_count": null,
      "metadata": {
        "_cell_guid": "7bb3d089-bfc8-48ae-8b2f-151b36e2afe3",
        "_uuid": "aba005788197862a3f780d880227469ffa9f120d",
        "collapsed": true,
        "id": "uhuGaJUFjIwc",
        "outputId": "0c3d0e3e-bf7e-4778-f158-8cf679a4d56c"
      },
      "outputs": [
        {
          "data": {
            "text/plain": [
              "<matplotlib.axes._subplots.AxesSubplot at 0x7fc514a60128>"
            ]
          },
          "execution_count": 20,
          "metadata": {},
          "output_type": "execute_result"
        },
        {
          "data": {
            "image/png": "[encoded data removed]",
            "text/plain": [
              "<matplotlib.figure.Figure at 0x7fc514b18240>"
            ]
          },
          "metadata": {},
          "output_type": "display_data"
        }
      ],
      "source": [
        "sns.heatmap(cm,annot=True,fmt=\"d\")\n",
        "plt.show()"
      ]
    },
    {
      "cell_type": "markdown",
      "metadata": {
        "_cell_guid": "d4fd73f3-0343-4cdd-b7fc-db2a32fb0b49",
        "_uuid": "6a91e6058852fefa114e455e1ce7cf3467cbe7f5",
        "id": "0gQpxmjajIwd"
      },
      "source": [
        "**The results indicated that adding weather-related features to a machine learning algorithm in predicting severity of an accident did not change the accuracy of the model. When adding three features of light condition, weather condition, and the condition of the road surface, the measures of recall, precision, and f1-score remained unchanged. **\n",
        "\n",
        "**When looking at the overall performance of all of the algorithms, there was an increase in accuracy between the data with weather conditions when compared to data without weather related conditions. Namely, random forest algorithm increased performance by 0.59%. The previous top performer when no weather related conditions were introduced, Logistic Regression, sustained the same level of accuracy. Hence, it was concluded to further scrutinize the recall, precision, and f1-score of random forest algorithm to see whether there was an actual change in prediction power. **\n",
        "\n"
      ]
    }
  ],
  "metadata": {
    "kernelspec": {
      "display_name": "Python 3",
      "language": "python",
      "name": "python3"
    },
    "language_info": {
      "codemirror_mode": {
        "name": "ipython",
        "version": 3
      },
      "file_extension": ".py",
      "mimetype": "text/x-python",
      "name": "python",
      "nbconvert_exporter": "python",
      "pygments_lexer": "ipython3",
      "version": "3.6.3"
    },
    "colab": {
      "provenance": []
    }
  },
  "nbformat": 4,
  "nbformat_minor": 0
}